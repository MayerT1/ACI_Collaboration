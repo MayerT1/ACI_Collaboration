{
  "nbformat": 4,
  "nbformat_minor": 0,
  "metadata": {
    "colab": {
      "provenance": [],
      "authorship_tag": "ABX9TyOJi2a4b1bB4HxkIfnyM5z3",
      "include_colab_link": true
    },
    "kernelspec": {
      "name": "python3",
      "display_name": "Python 3"
    },
    "language_info": {
      "name": "python"
    }
  },
  "cells": [
    {
      "cell_type": "markdown",
      "metadata": {
        "id": "view-in-github",
        "colab_type": "text"
      },
      "source": [
        "<a href=\"https://colab.research.google.com/github/MayerT1/ACI_Collaboration/blob/main/ACI_cerulean_warbler_.ipynb\" target=\"_parent\"><img src=\"https://colab.research.google.com/assets/colab-badge.svg\" alt=\"Open In Colab\"/></a>"
      ]
    },
    {
      "cell_type": "code",
      "source": [
        "!pip install pygbif"
      ],
      "metadata": {
        "id": "vHXXyXFVD6jY",
        "colab": {
          "base_uri": "https://localhost:8080/"
        },
        "outputId": "aa454cde-1451-4c2d-8da3-275d034e655c"
      },
      "execution_count": 1,
      "outputs": [
        {
          "output_type": "stream",
          "name": "stdout",
          "text": [
            "Collecting pygbif\n",
            "  Downloading pygbif-0.6.5-py3-none-any.whl.metadata (12 kB)\n",
            "Requirement already satisfied: requests>2.7 in /usr/local/lib/python3.12/dist-packages (from pygbif) (2.32.4)\n",
            "Collecting requests-cache (from pygbif)\n",
            "  Downloading requests_cache-1.2.1-py3-none-any.whl.metadata (9.9 kB)\n",
            "Collecting geojson_rewind (from pygbif)\n",
            "  Downloading geojson_rewind-1.1.0-py3-none-any.whl.metadata (4.5 kB)\n",
            "Collecting geomet (from pygbif)\n",
            "  Downloading geomet-1.1.0-py3-none-any.whl.metadata (11 kB)\n",
            "Collecting appdirs>=1.4.3 (from pygbif)\n",
            "  Downloading appdirs-1.4.4-py2.py3-none-any.whl.metadata (9.0 kB)\n",
            "Requirement already satisfied: matplotlib in /usr/local/lib/python3.12/dist-packages (from pygbif) (3.10.0)\n",
            "Requirement already satisfied: charset_normalizer<4,>=2 in /usr/local/lib/python3.12/dist-packages (from requests>2.7->pygbif) (3.4.3)\n",
            "Requirement already satisfied: idna<4,>=2.5 in /usr/local/lib/python3.12/dist-packages (from requests>2.7->pygbif) (3.10)\n",
            "Requirement already satisfied: urllib3<3,>=1.21.1 in /usr/local/lib/python3.12/dist-packages (from requests>2.7->pygbif) (2.5.0)\n",
            "Requirement already satisfied: certifi>=2017.4.17 in /usr/local/lib/python3.12/dist-packages (from requests>2.7->pygbif) (2025.8.3)\n",
            "Requirement already satisfied: click in /usr/local/lib/python3.12/dist-packages (from geomet->pygbif) (8.2.1)\n",
            "Requirement already satisfied: contourpy>=1.0.1 in /usr/local/lib/python3.12/dist-packages (from matplotlib->pygbif) (1.3.3)\n",
            "Requirement already satisfied: cycler>=0.10 in /usr/local/lib/python3.12/dist-packages (from matplotlib->pygbif) (0.12.1)\n",
            "Requirement already satisfied: fonttools>=4.22.0 in /usr/local/lib/python3.12/dist-packages (from matplotlib->pygbif) (4.59.2)\n",
            "Requirement already satisfied: kiwisolver>=1.3.1 in /usr/local/lib/python3.12/dist-packages (from matplotlib->pygbif) (1.4.9)\n",
            "Requirement already satisfied: numpy>=1.23 in /usr/local/lib/python3.12/dist-packages (from matplotlib->pygbif) (2.0.2)\n",
            "Requirement already satisfied: packaging>=20.0 in /usr/local/lib/python3.12/dist-packages (from matplotlib->pygbif) (25.0)\n",
            "Requirement already satisfied: pillow>=8 in /usr/local/lib/python3.12/dist-packages (from matplotlib->pygbif) (11.3.0)\n",
            "Requirement already satisfied: pyparsing>=2.3.1 in /usr/local/lib/python3.12/dist-packages (from matplotlib->pygbif) (3.2.3)\n",
            "Requirement already satisfied: python-dateutil>=2.7 in /usr/local/lib/python3.12/dist-packages (from matplotlib->pygbif) (2.9.0.post0)\n",
            "Requirement already satisfied: attrs>=21.2 in /usr/local/lib/python3.12/dist-packages (from requests-cache->pygbif) (25.3.0)\n",
            "Collecting cattrs>=22.2 (from requests-cache->pygbif)\n",
            "  Downloading cattrs-25.2.0-py3-none-any.whl.metadata (8.4 kB)\n",
            "Requirement already satisfied: platformdirs>=2.5 in /usr/local/lib/python3.12/dist-packages (from requests-cache->pygbif) (4.4.0)\n",
            "Collecting url-normalize>=1.4 (from requests-cache->pygbif)\n",
            "  Downloading url_normalize-2.2.1-py3-none-any.whl.metadata (5.6 kB)\n",
            "Requirement already satisfied: typing-extensions>=4.12.2 in /usr/local/lib/python3.12/dist-packages (from cattrs>=22.2->requests-cache->pygbif) (4.15.0)\n",
            "Requirement already satisfied: six>=1.5 in /usr/local/lib/python3.12/dist-packages (from python-dateutil>=2.7->matplotlib->pygbif) (1.17.0)\n",
            "Downloading pygbif-0.6.5-py3-none-any.whl (70 kB)\n",
            "\u001b[2K   \u001b[90m━━━━━━━━━━━━━━━━━━━━━━━━━━━━━━━━━━━━━━━━\u001b[0m \u001b[32m70.2/70.2 kB\u001b[0m \u001b[31m4.3 MB/s\u001b[0m eta \u001b[36m0:00:00\u001b[0m\n",
            "\u001b[?25hDownloading appdirs-1.4.4-py2.py3-none-any.whl (9.6 kB)\n",
            "Downloading geojson_rewind-1.1.0-py3-none-any.whl (5.2 kB)\n",
            "Downloading geomet-1.1.0-py3-none-any.whl (31 kB)\n",
            "Downloading requests_cache-1.2.1-py3-none-any.whl (61 kB)\n",
            "\u001b[2K   \u001b[90m━━━━━━━━━━━━━━━━━━━━━━━━━━━━━━━━━━━━━━━━\u001b[0m \u001b[32m61.4/61.4 kB\u001b[0m \u001b[31m4.7 MB/s\u001b[0m eta \u001b[36m0:00:00\u001b[0m\n",
            "\u001b[?25hDownloading cattrs-25.2.0-py3-none-any.whl (70 kB)\n",
            "\u001b[2K   \u001b[90m━━━━━━━━━━━━━━━━━━━━━━━━━━━━━━━━━━━━━━━━\u001b[0m \u001b[32m70.0/70.0 kB\u001b[0m \u001b[31m4.8 MB/s\u001b[0m eta \u001b[36m0:00:00\u001b[0m\n",
            "\u001b[?25hDownloading url_normalize-2.2.1-py3-none-any.whl (14 kB)\n",
            "Installing collected packages: appdirs, url-normalize, geomet, geojson_rewind, cattrs, requests-cache, pygbif\n",
            "Successfully installed appdirs-1.4.4 cattrs-25.2.0 geojson_rewind-1.1.0 geomet-1.1.0 pygbif-0.6.5 requests-cache-1.2.1 url-normalize-2.2.1\n"
          ]
        }
      ]
    },
    {
      "cell_type": "code",
      "source": [
        "import ee\n",
        "import geemap\n",
        "import pandas as pd\n",
        "from pygbif import occurrences\n",
        "import geemap.chart as chart"
      ],
      "metadata": {
        "id": "TYL_atbkDyTh"
      },
      "execution_count": 2,
      "outputs": []
    },
    {
      "cell_type": "code",
      "source": [
        "# Authenticate and initialize Earth Engine\n",
        "ee.Authenticate()\n",
        "ee.Initialize(project='servir-sco-assets')\n",
        "Map = geemap.Map()"
      ],
      "metadata": {
        "id": "4jg21dneD0Ak",
        "colab": {
          "base_uri": "https://localhost:8080/",
          "height": 34
        },
        "outputId": "b6f60100-50f6-42ab-9bd6-753a85d31b2f"
      },
      "execution_count": 3,
      "outputs": [
        {
          "output_type": "display_data",
          "data": {
            "text/plain": [
              "<IPython.core.display.HTML object>"
            ],
            "text/html": [
              "\n",
              "            <style>\n",
              "                .geemap-dark {\n",
              "                    --jp-widgets-color: white;\n",
              "                    --jp-widgets-label-color: white;\n",
              "                    --jp-ui-font-color1: white;\n",
              "                    --jp-layout-color2: #454545;\n",
              "                    background-color: #383838;\n",
              "                }\n",
              "\n",
              "                .geemap-dark .jupyter-button {\n",
              "                    --jp-layout-color3: #383838;\n",
              "                }\n",
              "\n",
              "                .geemap-colab {\n",
              "                    background-color: var(--colab-primary-surface-color, white);\n",
              "                }\n",
              "\n",
              "                .geemap-colab .jupyter-button {\n",
              "                    --jp-layout-color3: var(--colab-primary-surface-color, white);\n",
              "                }\n",
              "            </style>\n",
              "            "
            ]
          },
          "metadata": {}
        },
        {
          "output_type": "stream",
          "name": "stderr",
          "text": [
            "*** Earth Engine *** Share your feedback by taking our Annual Developer Satisfaction Survey: https://google.qualtrics.com/jfe/form/SV_7TDKVSyKvBdmMqW?ref=4i2o6\n"
          ]
        }
      ]
    },
    {
      "cell_type": "markdown",
      "source": [
        "https://www.gbif.org/species/6093350"
      ],
      "metadata": {
        "id": "E1zT2F-wEdQ2"
      }
    },
    {
      "cell_type": "code",
      "source": [
        "# coords = [\n",
        "#     [-85.85307177259287, 35.06788356661989],\n",
        "#     [-85.41087206556162, 35.06788356661989],\n",
        "#     [-85.41087206556162, 35.34391870157585],\n",
        "#     [-85.85307177259287, 35.34391870157585],\n",
        "#     [-85.85307177259287, 35.06788356661989]  # Close the polygon\n",
        "# ]\n",
        "\n",
        "# roi = ee.Geometry.Polygon(coords)\n",
        "\n",
        "# # Create a map centered on the ROI\n",
        "# Map = geemap.Map(center=[35.2, -85.63], zoom=11)\n",
        "# Map.addLayer(roi, {\"color\": \"red\"}, \"Modeling ROI\")\n",
        "# # Map"
      ],
      "metadata": {
        "id": "_tihUi2RV1xb",
        "colab": {
          "base_uri": "https://localhost:8080/",
          "height": 17
        },
        "outputId": "3e6fb189-52ff-4250-bdf1-c843a886fb7e"
      },
      "execution_count": 4,
      "outputs": [
        {
          "output_type": "display_data",
          "data": {
            "text/plain": [
              "<IPython.core.display.HTML object>"
            ],
            "text/html": [
              "\n",
              "            <style>\n",
              "                .geemap-dark {\n",
              "                    --jp-widgets-color: white;\n",
              "                    --jp-widgets-label-color: white;\n",
              "                    --jp-ui-font-color1: white;\n",
              "                    --jp-layout-color2: #454545;\n",
              "                    background-color: #383838;\n",
              "                }\n",
              "\n",
              "                .geemap-dark .jupyter-button {\n",
              "                    --jp-layout-color3: #383838;\n",
              "                }\n",
              "\n",
              "                .geemap-colab {\n",
              "                    background-color: var(--colab-primary-surface-color, white);\n",
              "                }\n",
              "\n",
              "                .geemap-colab .jupyter-button {\n",
              "                    --jp-layout-color3: var(--colab-primary-surface-color, white);\n",
              "                }\n",
              "            </style>\n",
              "            "
            ]
          },
          "metadata": {}
        }
      ]
    },
    {
      "cell_type": "code",
      "execution_count": 5,
      "metadata": {
        "id": "080clP4mDrVw",
        "colab": {
          "base_uri": "https://localhost:8080/",
          "height": 17
        },
        "outputId": "57d9a503-63be-4b34-d09c-52cf88e302ee"
      },
      "outputs": [
        {
          "output_type": "display_data",
          "data": {
            "text/plain": [
              "<IPython.core.display.HTML object>"
            ],
            "text/html": [
              "\n",
              "            <style>\n",
              "                .geemap-dark {\n",
              "                    --jp-widgets-color: white;\n",
              "                    --jp-widgets-label-color: white;\n",
              "                    --jp-ui-font-color1: white;\n",
              "                    --jp-layout-color2: #454545;\n",
              "                    background-color: #383838;\n",
              "                }\n",
              "\n",
              "                .geemap-dark .jupyter-button {\n",
              "                    --jp-layout-color3: #383838;\n",
              "                }\n",
              "\n",
              "                .geemap-colab {\n",
              "                    background-color: var(--colab-primary-surface-color, white);\n",
              "                }\n",
              "\n",
              "                .geemap-colab .jupyter-button {\n",
              "                    --jp-layout-color3: var(--colab-primary-surface-color, white);\n",
              "                }\n",
              "            </style>\n",
              "            "
            ]
          },
          "metadata": {}
        }
      ],
      "source": [
        "# # Define AOI: Tennessee\n",
        "# states = ee.FeatureCollection(\"TIGER/2018/States\")\n",
        "# tennessee = states.filter(ee.Filter.eq('NAME', 'Tennessee'))\n",
        "# roi = tennessee.geometry()\n",
        "# Map = geemap.Map(center=[35, -86], zoom=6)\n",
        "# Map.addLayer(tennessee, {}, \"Tennessee AOI\")\n",
        "\n",
        "# # --------------------------------------------------\n",
        "# # Fetch Cerulean Warbler occurrences from GBIF\n",
        "# # --------------------------------------------------\n",
        "# species_name = \"Setophaga cerulea\"\n",
        "# gbif_data = occurrences.search(scientificName=species_name, country=\"US\", stateProvince=\"Tennessee\", hasCoordinate=True, limit=3000)\n",
        "\n",
        "# # Convert GBIF occurrences to a DataFrame\n",
        "# records = gbif_data['results']\n",
        "# df = pd.DataFrame(records)\n",
        "# df = df.dropna(subset=['decimalLatitude', 'decimalLongitude'])\n",
        "\n",
        "# # Convert to ee.FeatureCollection\n",
        "# def df_to_fc(row):\n",
        "#     return ee.Feature(ee.Geometry.Point([row['decimalLongitude'], row['decimalLatitude']]), {'occurrence': 1})\n",
        "\n",
        "# presence_fc = ee.FeatureCollection(df.apply(df_to_fc, axis=1).tolist())\n",
        "# Map.addLayer(presence_fc, {'color': 'blue'}, \"Presence Points\")\n",
        "\n",
        "# # --------------------------------------------------\n",
        "# # Generate background (pseudo-absence) points\n",
        "# # --------------------------------------------------\n",
        "# background_fc = ee.FeatureCollection.randomPoints(roi, 10000, seed=42)\n",
        "# background_fc = background_fc.map(lambda f: f.set('occurrence', 0))\n",
        "# Map.addLayer(background_fc, {'color': 'red'}, \"Background Points\")\n",
        "\n",
        "# # Merge presence and background points\n",
        "# training_data = presence_fc.merge(background_fc)\n",
        "# Map.addLayer(training_data, {}, \"Training Data\")\n",
        "\n",
        "# # --------------------------------------------------\n",
        "# # Landsat 8 imagery preprocessing\n",
        "# # --------------------------------------------------\n",
        "# def maskL8sr(image):\n",
        "#     qa = image.select('QA_PIXEL')\n",
        "#     cloudShadowBitMask = 1 << 3\n",
        "#     cloudsBitMask = 1 << 5\n",
        "#     mask = qa.bitwiseAnd(cloudShadowBitMask).eq(0).And(\n",
        "#         qa.bitwiseAnd(cloudsBitMask).eq(0)\n",
        "#     )\n",
        "#     return image.updateMask(mask)\n",
        "\n",
        "# LS8 = ee.ImageCollection(\"LANDSAT/LC08/C02/T1_L2\") \\\n",
        "#         .filterDate('2020-01-01', '2020-12-31') \\\n",
        "#         .filterBounds(roi) \\\n",
        "#         .map(maskL8sr)\n",
        "\n",
        "# # Compute NDVI median image\n",
        "# def add_ndvi(image):\n",
        "#     ndvi = image.normalizedDifference(['SR_B5', 'SR_B4']).rename('NDVI')\n",
        "#     return ndvi.copyProperties(image).set('system:time_start', image.get('system:time_start'))\n",
        "\n",
        "# image = LS8.map(add_ndvi).median().clip(roi)\n",
        "# Map.addLayer(image, {'min': 0, 'max': 1, 'palette': ['white', 'green']}, \"NDVI\")\n",
        "\n",
        "# # --------------------------------------------------\n",
        "# # Sample points and train Maxent classifier\n",
        "# # --------------------------------------------------\n",
        "# training = image.sampleRegions(\n",
        "#     collection=training_data,\n",
        "#     scale=30\n",
        "# )\n",
        "\n",
        "# classifier = ee.Classifier.amnhMaxent().train(\n",
        "#     features=training,\n",
        "#     classProperty='occurrence',\n",
        "#     inputProperties=image.bandNames()\n",
        "# )\n",
        "\n",
        "# # Classify image\n",
        "# image_classified = image.classify(classifier)\n",
        "# # Map.addLayer(image_classified.select('probability'), {'min':0, 'max':1, 'palette': ['white','light green','green']}, 'Predicted Probability')\n",
        "\n",
        "# # Define a gradient from transparent to dark green\n",
        "# palette = ['#00ffffff', '#006400ff']  # transparent -> dark green\n",
        "\n",
        "# # Add layer\n",
        "# Map.addLayer(image_classified.select('probability'),\n",
        "#              {'min':0, 'max':1, 'palette': palette},\n",
        "#              'Predicted Probability')\n",
        "\n",
        "\n",
        "\n",
        "# # Display map\n",
        "# # Map\n"
      ]
    },
    {
      "cell_type": "code",
      "source": [
        "# # import ee\n",
        "# # import geemap\n",
        "# # import pandas as pd\n",
        "# # from pygbif import occurrences\n",
        "\n",
        "# # ee.Initialize()\n",
        "\n",
        "# # -----------------------------\n",
        "# # Define AOI: Tennessee\n",
        "# # -----------------------------\n",
        "# states = ee.FeatureCollection(\"TIGER/2018/States\")\n",
        "# tennessee = states.filter(ee.Filter.eq('NAME', 'Tennessee'))\n",
        "# roi = tennessee.geometry()\n",
        "# Map = geemap.Map(center=[35, -86], zoom=6)\n",
        "# Map.addLayer(tennessee, {}, \"Tennessee AOI\")\n",
        "\n",
        "# # # Define your custom ROI\n",
        "# # coords = [\n",
        "# #     [-85.85307177259287, 35.06788356661989],\n",
        "# #     [-85.41087206556162, 35.06788356661989],\n",
        "# #     [-85.41087206556162, 35.34391870157585],\n",
        "# #     [-85.85307177259287, 35.34391870157585],\n",
        "# #     [-85.85307177259287, 35.06788356661989]  # Close the polygon\n",
        "# # ]\n",
        "\n",
        "# # # Create EE Geometry and buffer by 10 km (10000 meters)\n",
        "# # roi = ee.Geometry.Polygon(coords).buffer(100000)\n",
        "\n",
        "\n",
        "# # -----------------------------\n",
        "# # GBIF occurrences for Cerulean Warbler\n",
        "# # -----------------------------\n",
        "# species_name = \"Setophaga cerulea\"\n",
        "# gbif_data = occurrences.search(scientificName=species_name, country=\"US\", stateProvince=\"Tennessee\", hasCoordinate=True, limit=3000)\n",
        "# records = gbif_data['results']\n",
        "# df = pd.DataFrame(records).dropna(subset=['decimalLatitude', 'decimalLongitude'])\n",
        "\n",
        "# def df_to_fc(row):\n",
        "#     return ee.Feature(ee.Geometry.Point([row['decimalLongitude'], row['decimalLatitude']]), {'occurrence': 1})\n",
        "\n",
        "# presence_fc = ee.FeatureCollection(df.apply(df_to_fc, axis=1).tolist())\n",
        "# Map.addLayer(presence_fc, {'color': 'blue'}, \"Presence Points\")\n",
        "\n",
        "# # -----------------------------\n",
        "# # Background points\n",
        "# # -----------------------------\n",
        "# background_fc = ee.FeatureCollection.randomPoints(roi, 10000, seed=42).map(lambda f: f.set('occurrence', 0))\n",
        "# training_data = presence_fc.merge(background_fc)\n",
        "# Map.addLayer(background_fc, {'color': 'red'}, \"Background Points\")\n",
        "\n",
        "# # -----------------------------\n",
        "# # Landsat 8 NDVI\n",
        "# # -----------------------------\n",
        "# def maskL8sr(image):\n",
        "#     qa = image.select('QA_PIXEL')\n",
        "#     cloudShadowBitMask = 1 << 3\n",
        "#     cloudsBitMask = 1 << 5\n",
        "#     mask = qa.bitwiseAnd(cloudShadowBitMask).eq(0).And(\n",
        "#         qa.bitwiseAnd(cloudsBitMask).eq(0)\n",
        "#     )\n",
        "#     return image.updateMask(mask)\n",
        "\n",
        "# LS8 = ee.ImageCollection(\"LANDSAT/LC08/C02/T1_L2\") \\\n",
        "#         .filterDate('2020-01-01', '2020-12-31') \\\n",
        "#         .filterBounds(roi) \\\n",
        "#         .map(maskL8sr)\n",
        "\n",
        "# def add_ndvi(image):\n",
        "#     return image.normalizedDifference(['SR_B5', 'SR_B4']).rename('NDVI')\n",
        "\n",
        "# ndvi_image = LS8.map(add_ndvi).median().clip(roi)\n",
        "# Map.addLayer(ndvi_image, {'min': 0, 'max': 1, 'palette': ['white', 'green']}, \"NDVI\")\n",
        "\n",
        "# # -----------------------------\n",
        "# # DEM\n",
        "# # -----------------------------\n",
        "# dem = ee.Image(\"USGS/SRTMGL1_003\").clip(roi).rename(\"DEM\")\n",
        "# Map.addLayer(dem, {'min': 0, 'max': 2000, 'palette': ['white','brown']}, \"DEM\")\n",
        "\n",
        "# # -----------------------------\n",
        "# # Climate: WorldClim v2 bioclimatic variables (1km resolution)\n",
        "# # -----------------------------\n",
        "# bio1 = ee.Image(\"WORLDCLIM/V1/BIO\").select('bio01').clip(roi).rename(\"bio01\")  # Mean annual temp\n",
        "# bio12 = ee.Image(\"WORLDCLIM/V1/BIO\").select('bio12').clip(roi).rename(\"bio12\")  # Annual precipitation\n",
        "\n",
        "# # -----------------------------\n",
        "# # Forest canopy ]\n",
        "# # -----------------------------\n",
        "# # # TCC and TCH from Global Forest Canopy Height and Cover\n",
        "# # tcc = ee.Image(\"ESA/GLOBCOVER_L4_200901_200912_V2_3\").clip(roi).rename(\"TCC\")  # approximate\n",
        "# # # GEDI products\n",
        "# tcc = ee.ImageCollection(\"projects/sat-io/open-datasets/facebook/meta-canopy-height\").first().clip(roi).rename(\"TCC\");\n",
        "\n",
        "# # -----------------------------\n",
        "# # Forest canopy / GEDI L2A metrics\n",
        "# # -----------------------------\n",
        "\n",
        "# gedi_l2a_fc = ee.FeatureCollection(\"LARSE/GEDI/GEDI02_A_002_MONTHLY\") \\\n",
        "#                 .filterBounds(roi) \\\n",
        "#                 .filter(ee.Filter.date('2019-01-01', '2020-12-31'))\n",
        "\n",
        "\n",
        "# gedi_rh98_img = gedi_l2a_fc.reduceToImage(\n",
        "#     properties=['rh98'],\n",
        "#     reducer=ee.Reducer.mean()\n",
        "# ).clip(roi).rename('Rh98')  # no select()\n",
        "\n",
        "\n",
        "# # gedi_rh98_img = gedi_rh98_img.focal_mean(radius=30, units='meters')\n",
        "\n",
        "\n",
        "# # -----------------------------\n",
        "# # Forest canopy / GEDI L2B metrics\n",
        "# # -----------------------------\n",
        "\n",
        "# gedi_l2b_fc = ee.FeatureCollection(\"LARSE/GEDI/GEDI02_B_002_MONTHLY\") \\\n",
        "#                 .filterBounds(roi) \\\n",
        "#                 .filter(ee.Filter.date('2019-01-01', '2020-12-31'))\n",
        "\n",
        "\n",
        "# gedi_pai_img = gedi_l2b_fc.reduceToImage(\n",
        "#     properties=['pai'],\n",
        "#     reducer=ee.Reducer.mean()\n",
        "# ).clip(roi).rename('PAI')  # no select()\n",
        "\n",
        "\n",
        "# # -----------------------------\n",
        "# # Define square kernel for smoothing\n",
        "# # -----------------------------\n",
        "# kernel = ee.Kernel.square(radius=100)  # 100 m like your JS example\n",
        "\n",
        "# # Apply focal mean directly to single-band images\n",
        "# gedi_pai_img_smooth = gedi_pai_img.focal_mean(kernel=kernel, iterations=1)\n",
        "# gedi_rh98_img_smooth = gedi_rh98_img.focal_mean(kernel=kernel, iterations=1)\n",
        "\n",
        "\n",
        "# # gedi_pai_img = gedi_pai_img.focal_mean(radius=30, units='meters')\n",
        "\n",
        "\n",
        "# # # List of PAVDZ bands\n",
        "# # # pai_bands = [f'pai_z{i}' for i in range(15)]\n",
        "# # pavdz_bands = [f'pavdz_z{i}' for i in range(15)]\n",
        "\n",
        "\n",
        "# # def rasterize_bands(fc, band_list):\n",
        "# #     \"\"\"Convert a list of point-based bands to a raster image stack.\"\"\"\n",
        "# #     raster_list = []\n",
        "# #     for band in band_list:\n",
        "# #         img = fc.reduceToImage(properties=[band], reducer=ee.Reducer.mean()) \\\n",
        "# #                 .select(['mean']).clip(roi) \\\n",
        "# #                 .rename(band) \\\n",
        "# #                 .focal_mean(radius=30, units='meters')  # smooth gaps\n",
        "# #         raster_list.append(img)\n",
        "# #     return ee.Image(raster_list)\n",
        "\n",
        "\n",
        "# # # Rasterize PAI and PAVDZ\n",
        "# # # gedi_pai_img = rasterize_bands(gedi_l2b_fc, pai_bands)\n",
        "# # gedi_pavdz_img = rasterize_bands(gedi_l2b_fc, pavdz_bands)\n",
        "\n",
        "# # -----------------------------\n",
        "# # Rasterize GEDI bands with square kernel smoothing\n",
        "# # -----------------------------\n",
        "\n",
        "# def rasterize_bands_smooth(fc, band_list, kernel_radius=100):\n",
        "#     \"\"\"Convert point-based bands to raster and apply focal mean using a square kernel.\"\"\"\n",
        "#     raster_list = []\n",
        "\n",
        "#     # Define square kernel (like JS example)\n",
        "#     kernel = ee.Kernel.square(radius=kernel_radius)\n",
        "\n",
        "#     for band in band_list:\n",
        "#         img = fc.reduceToImage(properties=[band], reducer=ee.Reducer.mean()) \\\n",
        "#                 .select(['mean']).clip(roi) \\\n",
        "#                 .rename(band)\n",
        "#         # Apply focal mean using the kernel\n",
        "#         img_smooth = img.focal_mean(kernel=kernel, iterations=1)\n",
        "#         raster_list.append(img_smooth)\n",
        "\n",
        "#     # Combine all smoothed rasters into a single image\n",
        "#     return ee.Image(raster_list)\n",
        "\n",
        "\n",
        "# # List of PAVDZ bands\n",
        "# pavdz_bands = [f'pavdz_z{i}' for i in range(10)]\n",
        "\n",
        "# # Rasterize and smooth\n",
        "# gedi_pavdz_img_out = rasterize_bands_smooth(gedi_l2b_fc, pavdz_bands, kernel_radius=100)\n",
        "\n",
        "# # -----------------------------\n",
        "# # Combine all predictors into a single image\n",
        "# # -----------------------------\n",
        "\n",
        "# predictors = ndvi_image.addBands([dem, bio1, bio12, tcc, gedi_pavdz_img_out])#, gedi_pai_img_smooth, gedi_rh98_img_smooth])\n",
        "# Map.addLayer(predictors, {}, \"All Predictors\")\n",
        "\n",
        "# # -----------------------------\n",
        "# # Sample points and train Maxent classifier\n",
        "# # -----------------------------\n",
        "# training = predictors.sampleRegions(\n",
        "#     collection=training_data,\n",
        "#     scale=30\n",
        "# )\n",
        "\n",
        "# classifier = ee.Classifier.amnhMaxent().train(\n",
        "#     features=training,\n",
        "#     classProperty='occurrence',\n",
        "#     inputProperties=predictors.bandNames()\n",
        "# )\n",
        "\n",
        "# # Classify image\n",
        "# image_classified = predictors.classify(classifier)\n",
        "# Map.addLayer(image_classified.select('probability'), {'min':0, 'max':1, 'palette': ['white','light green','green']}, 'Predicted Probability')\n",
        "\n",
        "# Map\n"
      ],
      "metadata": {
        "id": "g-CVQblmXmD6",
        "colab": {
          "base_uri": "https://localhost:8080/",
          "height": 17
        },
        "outputId": "ddd60fae-0dfc-4750-bb38-ffba4c329566"
      },
      "execution_count": 6,
      "outputs": [
        {
          "output_type": "display_data",
          "data": {
            "text/plain": [
              "<IPython.core.display.HTML object>"
            ],
            "text/html": [
              "\n",
              "            <style>\n",
              "                .geemap-dark {\n",
              "                    --jp-widgets-color: white;\n",
              "                    --jp-widgets-label-color: white;\n",
              "                    --jp-ui-font-color1: white;\n",
              "                    --jp-layout-color2: #454545;\n",
              "                    background-color: #383838;\n",
              "                }\n",
              "\n",
              "                .geemap-dark .jupyter-button {\n",
              "                    --jp-layout-color3: #383838;\n",
              "                }\n",
              "\n",
              "                .geemap-colab {\n",
              "                    background-color: var(--colab-primary-surface-color, white);\n",
              "                }\n",
              "\n",
              "                .geemap-colab .jupyter-button {\n",
              "                    --jp-layout-color3: var(--colab-primary-surface-color, white);\n",
              "                }\n",
              "            </style>\n",
              "            "
            ]
          },
          "metadata": {}
        }
      ]
    },
    {
      "cell_type": "markdown",
      "source": [
        "wall to wall dev"
      ],
      "metadata": {
        "id": "EwLpC8mf3Mi-"
      }
    },
    {
      "cell_type": "code",
      "source": [
        "from google.colab import drive\n",
        "drive.mount('/content/drive')"
      ],
      "metadata": {
        "id": "jd8OEHjVeieV",
        "outputId": "254e0e4a-c0ea-4626-cc69-014748d0fa96",
        "colab": {
          "base_uri": "https://localhost:8080/",
          "height": 34
        }
      },
      "execution_count": 43,
      "outputs": [
        {
          "output_type": "display_data",
          "data": {
            "text/plain": [
              "<IPython.core.display.HTML object>"
            ],
            "text/html": [
              "\n",
              "            <style>\n",
              "                .geemap-dark {\n",
              "                    --jp-widgets-color: white;\n",
              "                    --jp-widgets-label-color: white;\n",
              "                    --jp-ui-font-color1: white;\n",
              "                    --jp-layout-color2: #454545;\n",
              "                    background-color: #383838;\n",
              "                }\n",
              "\n",
              "                .geemap-dark .jupyter-button {\n",
              "                    --jp-layout-color3: #383838;\n",
              "                }\n",
              "\n",
              "                .geemap-colab {\n",
              "                    background-color: var(--colab-primary-surface-color, white);\n",
              "                }\n",
              "\n",
              "                .geemap-colab .jupyter-button {\n",
              "                    --jp-layout-color3: var(--colab-primary-surface-color, white);\n",
              "                }\n",
              "            </style>\n",
              "            "
            ]
          },
          "metadata": {}
        },
        {
          "output_type": "stream",
          "name": "stdout",
          "text": [
            "Mounted at /content/drive\n"
          ]
        }
      ]
    },
    {
      "cell_type": "code",
      "source": [
        "!mkdir -p \"/content/drive/MyDrive/ACI_Geo_Data\""
      ],
      "metadata": {
        "id": "gS0ztgo5ertl",
        "outputId": "c3c8eae8-c3e8-468e-e11b-7c11bf0668fa",
        "colab": {
          "base_uri": "https://localhost:8080/",
          "height": 17
        }
      },
      "execution_count": 44,
      "outputs": [
        {
          "output_type": "display_data",
          "data": {
            "text/plain": [
              "<IPython.core.display.HTML object>"
            ],
            "text/html": [
              "\n",
              "            <style>\n",
              "                .geemap-dark {\n",
              "                    --jp-widgets-color: white;\n",
              "                    --jp-widgets-label-color: white;\n",
              "                    --jp-ui-font-color1: white;\n",
              "                    --jp-layout-color2: #454545;\n",
              "                    background-color: #383838;\n",
              "                }\n",
              "\n",
              "                .geemap-dark .jupyter-button {\n",
              "                    --jp-layout-color3: #383838;\n",
              "                }\n",
              "\n",
              "                .geemap-colab {\n",
              "                    background-color: var(--colab-primary-surface-color, white);\n",
              "                }\n",
              "\n",
              "                .geemap-colab .jupyter-button {\n",
              "                    --jp-layout-color3: var(--colab-primary-surface-color, white);\n",
              "                }\n",
              "            </style>\n",
              "            "
            ]
          },
          "metadata": {}
        }
      ]
    },
    {
      "cell_type": "code",
      "source": [
        "%cd \"/content/drive/MyDrive/ACI_Geo_Data\""
      ],
      "metadata": {
        "id": "_ACHs2bceydu",
        "outputId": "71e1ce59-4a33-4418-c8a4-a464e03d1069",
        "colab": {
          "base_uri": "https://localhost:8080/",
          "height": 34
        }
      },
      "execution_count": 45,
      "outputs": [
        {
          "output_type": "display_data",
          "data": {
            "text/plain": [
              "<IPython.core.display.HTML object>"
            ],
            "text/html": [
              "\n",
              "            <style>\n",
              "                .geemap-dark {\n",
              "                    --jp-widgets-color: white;\n",
              "                    --jp-widgets-label-color: white;\n",
              "                    --jp-ui-font-color1: white;\n",
              "                    --jp-layout-color2: #454545;\n",
              "                    background-color: #383838;\n",
              "                }\n",
              "\n",
              "                .geemap-dark .jupyter-button {\n",
              "                    --jp-layout-color3: #383838;\n",
              "                }\n",
              "\n",
              "                .geemap-colab {\n",
              "                    background-color: var(--colab-primary-surface-color, white);\n",
              "                }\n",
              "\n",
              "                .geemap-colab .jupyter-button {\n",
              "                    --jp-layout-color3: var(--colab-primary-surface-color, white);\n",
              "                }\n",
              "            </style>\n",
              "            "
            ]
          },
          "metadata": {}
        },
        {
          "output_type": "stream",
          "name": "stdout",
          "text": [
            "/content/drive/MyDrive/ACI_Geo_Data\n"
          ]
        }
      ]
    },
    {
      "cell_type": "code",
      "source": [
        "!pwd"
      ],
      "metadata": {
        "id": "zB5cX3Dbe0nu",
        "outputId": "d3289345-5df3-41a9-cc8b-31645df5bf06",
        "colab": {
          "base_uri": "https://localhost:8080/",
          "height": 34
        }
      },
      "execution_count": 46,
      "outputs": [
        {
          "output_type": "display_data",
          "data": {
            "text/plain": [
              "<IPython.core.display.HTML object>"
            ],
            "text/html": [
              "\n",
              "            <style>\n",
              "                .geemap-dark {\n",
              "                    --jp-widgets-color: white;\n",
              "                    --jp-widgets-label-color: white;\n",
              "                    --jp-ui-font-color1: white;\n",
              "                    --jp-layout-color2: #454545;\n",
              "                    background-color: #383838;\n",
              "                }\n",
              "\n",
              "                .geemap-dark .jupyter-button {\n",
              "                    --jp-layout-color3: #383838;\n",
              "                }\n",
              "\n",
              "                .geemap-colab {\n",
              "                    background-color: var(--colab-primary-surface-color, white);\n",
              "                }\n",
              "\n",
              "                .geemap-colab .jupyter-button {\n",
              "                    --jp-layout-color3: var(--colab-primary-surface-color, white);\n",
              "                }\n",
              "            </style>\n",
              "            "
            ]
          },
          "metadata": {}
        },
        {
          "output_type": "stream",
          "name": "stdout",
          "text": [
            "/content/drive/MyDrive/ACI_Geo_Data\n"
          ]
        }
      ]
    },
    {
      "cell_type": "code",
      "source": [
        "# -----------------------------\n",
        "# Define AOI: Tennessee\n",
        "# -----------------------------\n",
        "# states = ee.FeatureCollection(\"TIGER/2018/States\")\n",
        "# tennessee = states.filter(ee.Filter.eq('NAME', 'Tennessee'))\n",
        "# roi = tennessee.geometry()\n",
        "# Map = geemap.Map(center=[35, -86], zoom=6)\n",
        "# Map.addLayer(tennessee, {}, \"Tennessee AOI\")\n",
        "\n",
        "\n",
        "# -----------------------------\n",
        "# Smaller ROI around custom point\n",
        "# -----------------------------\n",
        "point = ee.Geometry.Point([-85.65568438327509, 35.275624418905814])\n",
        "\n",
        "# Buffer by 50 km (adjust if needed: 50000 = 50,000 meters)\n",
        "roi = point.buffer(50000)\n",
        "\n",
        "# Map setup\n",
        "Map = geemap.Map(center=[35.275624418905814, -85.65568438327509], zoom=8)\n",
        "Map.addLayer(roi, {'color': 'red'}, \"ROI Small (50 km buffer)\")\n",
        "# Map.addLayer(tennessee, {}, \"Tennessee AOI\")\n",
        "# Map\n",
        "\n",
        "\n",
        "\n",
        "# # Define your custom ROI\n",
        "# coords = [\n",
        "#     [-85.85307177259287, 35.06788356661989],\n",
        "#     [-85.41087206556162, 35.06788356661989],\n",
        "#     [-85.41087206556162, 35.34391870157585],\n",
        "#     [-85.85307177259287, 35.34391870157585],\n",
        "#     [-85.85307177259287, 35.06788356661989]  # Close the polygon\n",
        "# ]\n",
        "\n",
        "# # Create EE Geometry and buffer by 10 km (10000 meters)\n",
        "# roi = ee.Geometry.Polygon(coords).buffer(100000)\n",
        "\n",
        "\n",
        "# -----------------------------\n",
        "# GBIF occurrences for Cerulean Warbler\n",
        "# -----------------------------\n",
        "species_name = \"Setophaga cerulea\"\n",
        "gbif_data = occurrences.search(scientificName=species_name, country=\"US\", stateProvince=\"Tennessee\", hasCoordinate=True, limit=3000)\n",
        "records = gbif_data['results']\n",
        "df = pd.DataFrame(records).dropna(subset=['decimalLatitude', 'decimalLongitude'])\n",
        "\n",
        "def df_to_fc(row):\n",
        "    return ee.Feature(ee.Geometry.Point([row['decimalLongitude'], row['decimalLatitude']]), {'occurrence': 1})\n",
        "\n",
        "presence_fc = ee.FeatureCollection(df.apply(df_to_fc, axis=1).tolist())\n",
        "Map.addLayer(presence_fc, {'color': 'blue'}, \"Presence Points\")\n",
        "\n",
        "# -----------------------------\n",
        "# Background points\n",
        "# -----------------------------\n",
        "background_fc = ee.FeatureCollection.randomPoints(roi, 10000, seed=42).map(lambda f: f.set('occurrence', 0))\n",
        "training_data = presence_fc.merge(background_fc)\n",
        "# Map.addLayer(background_fc, {'color': 'red'}, \"Background Points\")\n",
        "\n",
        "# df"
      ],
      "metadata": {
        "id": "IKOa0H_h3VNl",
        "outputId": "3c7202fa-7d14-48f9-97b6-38285f5d067c",
        "colab": {
          "base_uri": "https://localhost:8080/",
          "height": 17
        }
      },
      "execution_count": 11,
      "outputs": [
        {
          "output_type": "display_data",
          "data": {
            "text/plain": [
              "<IPython.core.display.HTML object>"
            ],
            "text/html": [
              "\n",
              "            <style>\n",
              "                .geemap-dark {\n",
              "                    --jp-widgets-color: white;\n",
              "                    --jp-widgets-label-color: white;\n",
              "                    --jp-ui-font-color1: white;\n",
              "                    --jp-layout-color2: #454545;\n",
              "                    background-color: #383838;\n",
              "                }\n",
              "\n",
              "                .geemap-dark .jupyter-button {\n",
              "                    --jp-layout-color3: #383838;\n",
              "                }\n",
              "\n",
              "                .geemap-colab {\n",
              "                    background-color: var(--colab-primary-surface-color, white);\n",
              "                }\n",
              "\n",
              "                .geemap-colab .jupyter-button {\n",
              "                    --jp-layout-color3: var(--colab-primary-surface-color, white);\n",
              "                }\n",
              "            </style>\n",
              "            "
            ]
          },
          "metadata": {}
        }
      ]
    },
    {
      "cell_type": "code",
      "source": [
        "# -----------------------------\n",
        "# Landsat 8 NDVI\n",
        "# -----------------------------\n",
        "def maskL8sr(image):\n",
        "    qa = image.select('QA_PIXEL')\n",
        "    cloudShadowBitMask = 1 << 3\n",
        "    cloudsBitMask = 1 << 5\n",
        "    mask = qa.bitwiseAnd(cloudShadowBitMask).eq(0).And(\n",
        "        qa.bitwiseAnd(cloudsBitMask).eq(0)\n",
        "    )\n",
        "    return image.updateMask(mask)\n",
        "\n",
        "LS8 = ee.ImageCollection(\"LANDSAT/LC08/C02/T1_L2\") \\\n",
        "        .filterDate('2020-01-01', '2020-12-31') \\\n",
        "        .filterBounds(roi) \\\n",
        "        .map(maskL8sr)\n",
        "\n",
        "def add_ndvi(image):\n",
        "    return image.normalizedDifference(['SR_B5', 'SR_B4']).rename('NDVI')\n",
        "\n",
        "ndvi_image = LS8.map(add_ndvi).median().clip(roi)\n",
        "\n",
        "proj = ndvi_image.projection()\n",
        "\n",
        "Map.addLayer(ndvi_image, {'min': 0, 'max': 1, 'palette': ['white', 'green']}, \"NDVI\")\n",
        "\n",
        "# -----------------------------\n",
        "# DEM\n",
        "# -----------------------------\n",
        "dem = ee.Image(\"USGS/SRTMGL1_003\").clip(roi).rename(\"DEM\")\n",
        "Map.addLayer(dem, {'min': 0, 'max': 2000, 'palette': ['white','brown']}, \"DEM\")\n",
        "\n",
        "# -----------------------------\n",
        "# Climate: WorldClim v2 bioclimatic variables (1km resolution)\n",
        "# -----------------------------\n",
        "bio1 = ee.Image(\"WORLDCLIM/V1/BIO\").select('bio01').clip(roi).rename(\"bio01\")  # Mean annual temp\n",
        "bio12 = ee.Image(\"WORLDCLIM/V1/BIO\").select('bio12').clip(roi).rename(\"bio12\")  # Annual precipitation\n",
        "Map.addLayer(bio1, {}, \"bio1\")\n",
        "Map.addLayer(bio12, {}, \"bio12\")\n",
        "# -----------------------------\n",
        "# Forest canopy\n",
        "# -----------------------------\n",
        "# # TCC and TCH from Global Forest Canopy Height and Cover\n",
        "# tcc = ee.Image(\"ESA/GLOBCOVER_L4_200901_200912_V2_3\").clip(roi).rename(\"TCC\")  # approximate\n",
        "# # GEDI products\n",
        "tcc = ee.ImageCollection(\"projects/sat-io/open-datasets/facebook/meta-canopy-height\").first().clip(roi).rename(\"TCC\");\n",
        "Map.addLayer(tcc, {}, \"tcc\")\n",
        "# Map"
      ],
      "metadata": {
        "id": "mSr1CBUr3Pmb",
        "outputId": "84211f2d-ca5a-41dd-d2d4-619694f790d6",
        "colab": {
          "base_uri": "https://localhost:8080/",
          "height": 17
        }
      },
      "execution_count": 12,
      "outputs": [
        {
          "output_type": "display_data",
          "data": {
            "text/plain": [
              "<IPython.core.display.HTML object>"
            ],
            "text/html": [
              "\n",
              "            <style>\n",
              "                .geemap-dark {\n",
              "                    --jp-widgets-color: white;\n",
              "                    --jp-widgets-label-color: white;\n",
              "                    --jp-ui-font-color1: white;\n",
              "                    --jp-layout-color2: #454545;\n",
              "                    background-color: #383838;\n",
              "                }\n",
              "\n",
              "                .geemap-dark .jupyter-button {\n",
              "                    --jp-layout-color3: #383838;\n",
              "                }\n",
              "\n",
              "                .geemap-colab {\n",
              "                    background-color: var(--colab-primary-surface-color, white);\n",
              "                }\n",
              "\n",
              "                .geemap-colab .jupyter-button {\n",
              "                    --jp-layout-color3: var(--colab-primary-surface-color, white);\n",
              "                }\n",
              "            </style>\n",
              "            "
            ]
          },
          "metadata": {}
        }
      ]
    },
    {
      "cell_type": "markdown",
      "source": [
        "# Generate Novel RF to make rh98 GEDI product  wall to wall with assest export\n",
        "\n",
        "performed one time comment out as already saved as an asset"
      ],
      "metadata": {
        "id": "ZkW5HSxKPiDW"
      }
    },
    {
      "cell_type": "code",
      "source": [
        "# # ============================\n",
        "# # 3. GEDI RH98 data\n",
        "# # ============================\n",
        "# def qualityMask(im):\n",
        "#     return (im.updateMask(im.select('quality_flag').eq(1))\n",
        "#               .updateMask(im.select('degrade_flag').eq(0)))\n",
        "\n",
        "# gedi_l2a = (ee.ImageCollection('LARSE/GEDI/GEDI02_A_002_MONTHLY')\n",
        "#               .map(qualityMask)\n",
        "#               .select('rh98')\n",
        "#               .filterDate('2020-01-01', '2020-12-31')\n",
        "#               .median()\n",
        "#               .clip(roi))\n",
        "\n",
        "# # ============================\n",
        "# # 4. Prepare training data\n",
        "# # ============================\n",
        "# predictor_img = ndvi_image\n",
        "\n",
        "# samples = (predictor_img.addBands(gedi_l2a)\n",
        "#             .sample(region=roi,\n",
        "#                     scale=30,\n",
        "#                     projection=predictor_img.projection(),\n",
        "#                     geometries=True)\n",
        "#             .filter(ee.Filter.notNull(['rh98'])))\n",
        "\n",
        "# # ============================\n",
        "# # 5. Train RF regression\n",
        "# # ============================\n",
        "# rf_rh98 = (ee.Classifier.smileRandomForest(numberOfTrees=50)\n",
        "#               .setOutputMode('REGRESSION')\n",
        "#               .train(features=samples,\n",
        "#                      classProperty='rh98',\n",
        "#                      inputProperties=predictor_img.bandNames()))\n",
        "\n",
        "# # ============================\n",
        "# # 6. Predict RH98\n",
        "# # ============================\n",
        "# rh98_prediction = predictor_img.classify(rf_rh98).rename('rh98_pred')\n",
        "\n",
        "# # ============================\n",
        "# # 7. Visualization\n",
        "# # ============================\n",
        "# ndvi_vis = {'min': 0, 'max': 1, 'palette': ['white','green']}\n",
        "# gedi_vis = {'min': 1, 'max': 60, 'palette': ['darkred','red','orange','green','darkgreen']}\n",
        "# pred_vis = {'min': 0, 'max': 40, 'palette': ['white','lightblue','blue','darkblue']}\n",
        "\n",
        "# Map.centerObject(roi, 10)\n",
        "# Map.addLayer(ndvi_image, ndvi_vis, 'NDVI')\n",
        "# Map.addLayer(gedi_l2a, gedi_vis, 'GEDI RH98')\n",
        "# Map.addLayer(rh98_prediction, pred_vis, 'RF RH98 Prediction (NDVI)')\n",
        "# Map.addLayer(roi, {}, 'ROI')\n",
        "\n",
        "# # Map"
      ],
      "metadata": {
        "id": "utjgyB888oPW",
        "outputId": "acd695fd-87c9-459b-ab56-c5b1dc9d34d0",
        "colab": {
          "base_uri": "https://localhost:8080/",
          "height": 17
        }
      },
      "execution_count": 14,
      "outputs": [
        {
          "output_type": "display_data",
          "data": {
            "text/plain": [
              "<IPython.core.display.HTML object>"
            ],
            "text/html": [
              "\n",
              "            <style>\n",
              "                .geemap-dark {\n",
              "                    --jp-widgets-color: white;\n",
              "                    --jp-widgets-label-color: white;\n",
              "                    --jp-ui-font-color1: white;\n",
              "                    --jp-layout-color2: #454545;\n",
              "                    background-color: #383838;\n",
              "                }\n",
              "\n",
              "                .geemap-dark .jupyter-button {\n",
              "                    --jp-layout-color3: #383838;\n",
              "                }\n",
              "\n",
              "                .geemap-colab {\n",
              "                    background-color: var(--colab-primary-surface-color, white);\n",
              "                }\n",
              "\n",
              "                .geemap-colab .jupyter-button {\n",
              "                    --jp-layout-color3: var(--colab-primary-surface-color, white);\n",
              "                }\n",
              "            </style>\n",
              "            "
            ]
          },
          "metadata": {}
        }
      ]
    },
    {
      "cell_type": "code",
      "source": [
        "# asset_folder = \"projects/servir-sco-assets/assets/ACI_Colab\"\n",
        "# asset_name = \"rh98_prediction\"\n",
        "\n",
        "# # -----------------------------\n",
        "# # Create and start export task\n",
        "# # -----------------------------\n",
        "# task = ee.batch.Export.image.toAsset(\n",
        "#     image=rh98_prediction,\n",
        "#     description=f\"export_{asset_name}\",\n",
        "#     assetId=f\"{asset_folder}/{asset_name}\",\n",
        "#     region=roi,\n",
        "#     scale=30,\n",
        "#     maxPixels=1e13\n",
        "# )\n",
        "# task.start()\n",
        "\n",
        "# print(f\"✅ Export started → Asset ID: {asset_folder}/{asset_name}\")\n"
      ],
      "metadata": {
        "colab": {
          "base_uri": "https://localhost:8080/",
          "height": 34
        },
        "id": "vdTckQfbOpL1",
        "outputId": "a92ed9fd-445b-4308-f62d-9fd8a68a7788"
      },
      "execution_count": 50,
      "outputs": [
        {
          "output_type": "display_data",
          "data": {
            "text/plain": [
              "<IPython.core.display.HTML object>"
            ],
            "text/html": [
              "\n",
              "            <style>\n",
              "                .geemap-dark {\n",
              "                    --jp-widgets-color: white;\n",
              "                    --jp-widgets-label-color: white;\n",
              "                    --jp-ui-font-color1: white;\n",
              "                    --jp-layout-color2: #454545;\n",
              "                    background-color: #383838;\n",
              "                }\n",
              "\n",
              "                .geemap-dark .jupyter-button {\n",
              "                    --jp-layout-color3: #383838;\n",
              "                }\n",
              "\n",
              "                .geemap-colab {\n",
              "                    background-color: var(--colab-primary-surface-color, white);\n",
              "                }\n",
              "\n",
              "                .geemap-colab .jupyter-button {\n",
              "                    --jp-layout-color3: var(--colab-primary-surface-color, white);\n",
              "                }\n",
              "            </style>\n",
              "            "
            ]
          },
          "metadata": {}
        },
        {
          "output_type": "stream",
          "name": "stdout",
          "text": [
            "✅ Export started → Asset ID: projects/servir-sco-assets/assets/ACI_Colab/rh98_prediction\n"
          ]
        }
      ]
    },
    {
      "cell_type": "markdown",
      "source": [
        "# Generate Novel RF to make PAI GEDI product  wall to wall with assest export\n",
        "\n",
        "performed one time comment out as already saved as an asset"
      ],
      "metadata": {
        "id": "0-9sPGBPPu-D"
      }
    },
    {
      "cell_type": "code",
      "source": [
        "# # ============================\n",
        "# # 1. GEDI L2B PAI data\n",
        "# # ============================\n",
        "# def qualityMask(im):\n",
        "#     return (im.updateMask(im.select('l2b_quality_flag').eq(1))\n",
        "#               .updateMask(im.select('degrade_flag').eq(0)))\n",
        "\n",
        "# gedi_l2b = (ee.ImageCollection('LARSE/GEDI/GEDI02_B_002_MONTHLY')\n",
        "#               .map(qualityMask)\n",
        "#               .select('pai')\n",
        "#               .filterDate('2020-01-01', '2020-12-31')\n",
        "#               .median()\n",
        "#               .clip(roi))\n",
        "\n",
        "# # Visualization\n",
        "# pai_vis = {'min': 1, 'max': 60,\n",
        "#            'palette': ['darkred','red','orange','green','darkgreen']}\n",
        "# Map.addLayer(gedi_l2b, pai_vis, 'GEDI L2B PAI')\n",
        "\n",
        "# print('GEDI L2B PAI image:', gedi_l2b.getInfo())\n",
        "\n",
        "# # ============================\n",
        "# # 2. Prepare training data\n",
        "# # ============================\n",
        "# predictor_img = ndvi_image  # single predictor: NDVI\n",
        "\n",
        "# samples_b = (predictor_img.addBands(gedi_l2b)\n",
        "#               .sample(region=roi,\n",
        "#                       scale=30,\n",
        "#                       projection=predictor_img.projection(),\n",
        "#                       geometries=True)\n",
        "#               .filter(ee.Filter.notNull(['pai'])))\n",
        "\n",
        "# # ============================\n",
        "# # 3. Train RF regression\n",
        "# # ============================\n",
        "# rf_pai = (ee.Classifier.smileRandomForest(numberOfTrees=50)\n",
        "#             .setOutputMode('REGRESSION')\n",
        "#             .train(features=samples_b,\n",
        "#                    classProperty='pai',\n",
        "#                    inputProperties=predictor_img.bandNames()))\n",
        "\n",
        "# # ============================\n",
        "# # 4. Predict PAI\n",
        "# # ============================\n",
        "# rf_pai_prediction = predictor_img.classify(rf_pai).rename('pai_pred')\n",
        "\n",
        "# # ============================\n",
        "# # 5. Visualization\n",
        "# # ============================\n",
        "# pai_pred_vis = {'min': 0, 'max': 10,\n",
        "#                 'palette': ['white','lightblue','blue','darkblue']}\n",
        "\n",
        "# Map.centerObject(roi, 10)\n",
        "# Map.addLayer(rf_pai_prediction, pai_pred_vis, 'RF PAI Prediction (NDVI)')\n",
        "\n",
        "# # Map"
      ],
      "metadata": {
        "id": "R1uQ6t4NI-xL"
      },
      "execution_count": null,
      "outputs": []
    },
    {
      "cell_type": "code",
      "source": [
        "# onasset_folder = \"projects/servir-sco-assets/assets/ACI_Colab\"\n",
        "# asset_name = \"rf_pai_prediction\"\n",
        "\n",
        "# # -----------------------------\n",
        "# # Create and start export task\n",
        "# # -----------------------------\n",
        "# task = ee.batch.Export.image.toAsset(\n",
        "#     image=rf_pai_prediction,\n",
        "#     description=f\"export_{asset_name}\",\n",
        "#     assetId=f\"{asset_folder}/{asset_name}\",\n",
        "#     region=roi,\n",
        "#     scale=30,\n",
        "#     maxPixels=1e13\n",
        "# )\n",
        "# task.start()\n",
        "\n",
        "# print(f\"✅ Export started → Asset ID: {asset_folder}/{asset_name}\")\n"
      ],
      "metadata": {
        "colab": {
          "base_uri": "https://localhost:8080/",
          "height": 34
        },
        "id": "zjCS7WHgO9Mq",
        "outputId": "9caf50ca-8911-4870-f405-03bdd814786d"
      },
      "execution_count": 49,
      "outputs": [
        {
          "output_type": "display_data",
          "data": {
            "text/plain": [
              "<IPython.core.display.HTML object>"
            ],
            "text/html": [
              "\n",
              "            <style>\n",
              "                .geemap-dark {\n",
              "                    --jp-widgets-color: white;\n",
              "                    --jp-widgets-label-color: white;\n",
              "                    --jp-ui-font-color1: white;\n",
              "                    --jp-layout-color2: #454545;\n",
              "                    background-color: #383838;\n",
              "                }\n",
              "\n",
              "                .geemap-dark .jupyter-button {\n",
              "                    --jp-layout-color3: #383838;\n",
              "                }\n",
              "\n",
              "                .geemap-colab {\n",
              "                    background-color: var(--colab-primary-surface-color, white);\n",
              "                }\n",
              "\n",
              "                .geemap-colab .jupyter-button {\n",
              "                    --jp-layout-color3: var(--colab-primary-surface-color, white);\n",
              "                }\n",
              "            </style>\n",
              "            "
            ]
          },
          "metadata": {}
        },
        {
          "output_type": "stream",
          "name": "stdout",
          "text": [
            "✅ Export started → Asset ID: projects/servir-sco-assets/assets/ACI_Colab/rf_pai_prediction\n"
          ]
        }
      ]
    },
    {
      "cell_type": "markdown",
      "source": [
        "# Generate Novel RF to make PADV_z 0-29 GEDI product  wall to wall with assest export\n",
        "\n",
        "29 unique vertical density map layers generated  \n",
        "\n",
        "performed one time comment out as already saved as an asset"
      ],
      "metadata": {
        "id": "mxcG8ftfQHaD"
      }
    },
    {
      "cell_type": "code",
      "source": [
        "# # ============================\n",
        "# # Loop through PAVD_z bands\n",
        "# # ============================\n",
        "\n",
        "# # Correct list of bands: pavd_z0 ... pavd_z30\n",
        "# pavd_bands = [f\"pavd_z{i}\" for i in range(29)]\n",
        "\n",
        "# # Dictionaries to hold models and predictions\n",
        "# rf_models_pavd = {}\n",
        "# rf_predictions_pavd = {}\n",
        "\n",
        "# # Inspect first image to check available bands\n",
        "# first_img = ee.ImageCollection('LARSE/GEDI/GEDI02_B_002_MONTHLY').first()\n",
        "# available_bands = first_img.bandNames().getInfo()\n",
        "\n",
        "# for band in pavd_bands:\n",
        "#     # Skip bands that are not in the collection\n",
        "#     if band not in available_bands:\n",
        "#         print(f\"⚠️ Band {band} not available, skipping.\")\n",
        "#         continue\n",
        "\n",
        "#     # Load GEDI L2B band\n",
        "#     gedi_band = (ee.ImageCollection('LARSE/GEDI/GEDI02_B_002_MONTHLY')\n",
        "#                    .map(qualityMask)\n",
        "#                    .select(band)\n",
        "#                    .filterDate('2020-01-01', '2020-12-31')\n",
        "#                    .median()\n",
        "#                    .clip(roi))\n",
        "\n",
        "#     # Sample NDVI + GEDI band\n",
        "#     samples = (ndvi_image.addBands(gedi_band)\n",
        "#                 .sample(region=roi,\n",
        "#                         scale=30,\n",
        "#                         projection=ndvi_image.projection(),\n",
        "#                         geometries=True)\n",
        "#                 .filter(ee.Filter.notNull([band])))\n",
        "\n",
        "#     # Train RF regressor\n",
        "#     rf_model = (ee.Classifier.smileRandomForest(numberOfTrees=50)\n",
        "#                   .setOutputMode('REGRESSION')\n",
        "#                   .train(features=samples,\n",
        "#                          classProperty=band,\n",
        "#                          inputProperties=ndvi_image.bandNames()))\n",
        "\n",
        "#     # Predict band from NDVI\n",
        "#     rf_pred = ndvi_image.classify(rf_model).rename(f\"{band}_pred\")\n",
        "\n",
        "#     # Save results\n",
        "#     rf_models_pavd[band] = rf_model\n",
        "#     rf_predictions_pavd[band] = rf_pred\n",
        "\n",
        "# print(\"✅ Trained and predicted for all available pavd_z bands\")\n"
      ],
      "metadata": {
        "id": "_7DaONRrVSiT",
        "outputId": "48447fe6-63ae-4d04-e10b-154e29361fab",
        "colab": {
          "base_uri": "https://localhost:8080/",
          "height": 34
        }
      },
      "execution_count": 17,
      "outputs": [
        {
          "output_type": "display_data",
          "data": {
            "text/plain": [
              "<IPython.core.display.HTML object>"
            ],
            "text/html": [
              "\n",
              "            <style>\n",
              "                .geemap-dark {\n",
              "                    --jp-widgets-color: white;\n",
              "                    --jp-widgets-label-color: white;\n",
              "                    --jp-ui-font-color1: white;\n",
              "                    --jp-layout-color2: #454545;\n",
              "                    background-color: #383838;\n",
              "                }\n",
              "\n",
              "                .geemap-dark .jupyter-button {\n",
              "                    --jp-layout-color3: #383838;\n",
              "                }\n",
              "\n",
              "                .geemap-colab {\n",
              "                    background-color: var(--colab-primary-surface-color, white);\n",
              "                }\n",
              "\n",
              "                .geemap-colab .jupyter-button {\n",
              "                    --jp-layout-color3: var(--colab-primary-surface-color, white);\n",
              "                }\n",
              "            </style>\n",
              "            "
            ]
          },
          "metadata": {}
        },
        {
          "output_type": "stream",
          "name": "stdout",
          "text": [
            "✅ Trained and predicted for all available pavd_z bands\n"
          ]
        }
      ]
    },
    {
      "cell_type": "code",
      "source": [
        "# rf_models_pavd"
      ],
      "metadata": {
        "colab": {
          "base_uri": "https://localhost:8080/",
          "height": 520
        },
        "id": "PpZlU4ph04Yo",
        "outputId": "2a85ffa2-1707-459a-bbdb-03baef37de40"
      },
      "execution_count": 18,
      "outputs": [
        {
          "output_type": "display_data",
          "data": {
            "text/plain": [
              "<IPython.core.display.HTML object>"
            ],
            "text/html": [
              "\n",
              "            <style>\n",
              "                .geemap-dark {\n",
              "                    --jp-widgets-color: white;\n",
              "                    --jp-widgets-label-color: white;\n",
              "                    --jp-ui-font-color1: white;\n",
              "                    --jp-layout-color2: #454545;\n",
              "                    background-color: #383838;\n",
              "                }\n",
              "\n",
              "                .geemap-dark .jupyter-button {\n",
              "                    --jp-layout-color3: #383838;\n",
              "                }\n",
              "\n",
              "                .geemap-colab {\n",
              "                    background-color: var(--colab-primary-surface-color, white);\n",
              "                }\n",
              "\n",
              "                .geemap-colab .jupyter-button {\n",
              "                    --jp-layout-color3: var(--colab-primary-surface-color, white);\n",
              "                }\n",
              "            </style>\n",
              "            "
            ]
          },
          "metadata": {}
        },
        {
          "output_type": "execute_result",
          "data": {
            "text/plain": [
              "{'pavd_z0': <ee.classifier.Classifier at 0x7d8dce45d250>,\n",
              " 'pavd_z1': <ee.classifier.Classifier at 0x7d8dce4b0ce0>,\n",
              " 'pavd_z2': <ee.classifier.Classifier at 0x7d8dce4b1a90>,\n",
              " 'pavd_z3': <ee.classifier.Classifier at 0x7d8dce4b29c0>,\n",
              " 'pavd_z4': <ee.classifier.Classifier at 0x7d8dce4b38f0>,\n",
              " 'pavd_z5': <ee.classifier.Classifier at 0x7d8dce4bc8c0>,\n",
              " 'pavd_z6': <ee.classifier.Classifier at 0x7d8dce4bd8b0>,\n",
              " 'pavd_z7': <ee.classifier.Classifier at 0x7d8dce4be8d0>,\n",
              " 'pavd_z8': <ee.classifier.Classifier at 0x7d8dce4bf320>,\n",
              " 'pavd_z9': <ee.classifier.Classifier at 0x7d8dce4c8410>,\n",
              " 'pavd_z10': <ee.classifier.Classifier at 0x7d8dce4c9490>,\n",
              " 'pavd_z11': <ee.classifier.Classifier at 0x7d8dce4ca510>,\n",
              " 'pavd_z12': <ee.classifier.Classifier at 0x7d8dce4cb590>,\n",
              " 'pavd_z13': <ee.classifier.Classifier at 0x7d8dce4d0650>,\n",
              " 'pavd_z14': <ee.classifier.Classifier at 0x7d8dce4d16d0>,\n",
              " 'pavd_z15': <ee.classifier.Classifier at 0x7d8dce4d2210>,\n",
              " 'pavd_z16': <ee.classifier.Classifier at 0x7d8dce4d3290>,\n",
              " 'pavd_z17': <ee.classifier.Classifier at 0x7d8dce4e0350>,\n",
              " 'pavd_z18': <ee.classifier.Classifier at 0x7d8dce4e13d0>,\n",
              " 'pavd_z19': <ee.classifier.Classifier at 0x7d8dce4e2450>,\n",
              " 'pavd_z20': <ee.classifier.Classifier at 0x7d8dce4e34d0>,\n",
              " 'pavd_z21': <ee.classifier.Classifier at 0x7d8dce4ec5f0>,\n",
              " 'pavd_z22': <ee.classifier.Classifier at 0x7d8dce4ed6d0>,\n",
              " 'pavd_z23': <ee.classifier.Classifier at 0x7d8dce4ee1b0>,\n",
              " 'pavd_z24': <ee.classifier.Classifier at 0x7d8dce4ef290>,\n",
              " 'pavd_z25': <ee.classifier.Classifier at 0x7d8dce4f03b0>,\n",
              " 'pavd_z26': <ee.classifier.Classifier at 0x7d8dce4f1490>,\n",
              " 'pavd_z27': <ee.classifier.Classifier at 0x7d8dce4f2570>,\n",
              " 'pavd_z28': <ee.classifier.Classifier at 0x7d8dce4f3650>}"
            ]
          },
          "metadata": {},
          "execution_count": 18
        }
      ]
    },
    {
      "cell_type": "code",
      "source": [
        "# def export_images_to_assets(image_dict, asset_folder, roi, scale=30):\n",
        "#     \"\"\"\n",
        "#     Exports multiple EE images to GEE assets.\n",
        "\n",
        "#     Parameters:\n",
        "#     - image_dict: dict of {name: ee.Image} to export\n",
        "#     - asset_folder: str, folder in your GEE assets (e.g., 'users/your_username')\n",
        "#     - roi: ee.Geometry, export region\n",
        "#     - scale: int, resolution in meters (default 30)\n",
        "#     \"\"\"\n",
        "#     for name, img in image_dict.items():\n",
        "#         asset_id = f\"{asset_folder}/{name}\"\n",
        "#         task = ee.batch.Export.image.toAsset(\n",
        "#             image=img,\n",
        "#             description=f\"export_{name}\",\n",
        "#             assetId=asset_id,\n",
        "#             region=roi,\n",
        "#             scale=scale,\n",
        "#             maxPixels=1e13\n",
        "#         )\n",
        "#         task.start()\n",
        "#         print(f\"✅ Started export for {name} → Asset ID: {asset_id}\")\n",
        "\n",
        "# # -----------------------------\n",
        "# # Example usage\n",
        "# # -----------------------------\n",
        "# rf_predictions_pavd = {\n",
        "#     f\"pavd_z{i}\": rf_predictions_pavd[f\"pavd_z{i}\"] for i in range(29)\n",
        "# }\n",
        "\n",
        "# asset_folder = \"projects/servir-sco-assets/assets/ACI_Colab\"  # Replace with your folder\n",
        "# export_images_to_assets(rf_predictions_pavd, asset_folder, roi)\n"
      ],
      "metadata": {
        "colab": {
          "base_uri": "https://localhost:8080/",
          "height": 520
        },
        "id": "mqHY5YzTObB6",
        "outputId": "967bddde-4976-4cc7-b053-32eb8129e242"
      },
      "execution_count": 48,
      "outputs": [
        {
          "output_type": "display_data",
          "data": {
            "text/plain": [
              "<IPython.core.display.HTML object>"
            ],
            "text/html": [
              "\n",
              "            <style>\n",
              "                .geemap-dark {\n",
              "                    --jp-widgets-color: white;\n",
              "                    --jp-widgets-label-color: white;\n",
              "                    --jp-ui-font-color1: white;\n",
              "                    --jp-layout-color2: #454545;\n",
              "                    background-color: #383838;\n",
              "                }\n",
              "\n",
              "                .geemap-dark .jupyter-button {\n",
              "                    --jp-layout-color3: #383838;\n",
              "                }\n",
              "\n",
              "                .geemap-colab {\n",
              "                    background-color: var(--colab-primary-surface-color, white);\n",
              "                }\n",
              "\n",
              "                .geemap-colab .jupyter-button {\n",
              "                    --jp-layout-color3: var(--colab-primary-surface-color, white);\n",
              "                }\n",
              "            </style>\n",
              "            "
            ]
          },
          "metadata": {}
        },
        {
          "output_type": "stream",
          "name": "stdout",
          "text": [
            "✅ Started export for pavd_z0 → Asset ID: projects/servir-sco-assets/assets/ACI_Colab/pavd_z0\n",
            "✅ Started export for pavd_z1 → Asset ID: projects/servir-sco-assets/assets/ACI_Colab/pavd_z1\n",
            "✅ Started export for pavd_z2 → Asset ID: projects/servir-sco-assets/assets/ACI_Colab/pavd_z2\n",
            "✅ Started export for pavd_z3 → Asset ID: projects/servir-sco-assets/assets/ACI_Colab/pavd_z3\n",
            "✅ Started export for pavd_z4 → Asset ID: projects/servir-sco-assets/assets/ACI_Colab/pavd_z4\n",
            "✅ Started export for pavd_z5 → Asset ID: projects/servir-sco-assets/assets/ACI_Colab/pavd_z5\n",
            "✅ Started export for pavd_z6 → Asset ID: projects/servir-sco-assets/assets/ACI_Colab/pavd_z6\n",
            "✅ Started export for pavd_z7 → Asset ID: projects/servir-sco-assets/assets/ACI_Colab/pavd_z7\n",
            "✅ Started export for pavd_z8 → Asset ID: projects/servir-sco-assets/assets/ACI_Colab/pavd_z8\n",
            "✅ Started export for pavd_z9 → Asset ID: projects/servir-sco-assets/assets/ACI_Colab/pavd_z9\n",
            "✅ Started export for pavd_z10 → Asset ID: projects/servir-sco-assets/assets/ACI_Colab/pavd_z10\n",
            "✅ Started export for pavd_z11 → Asset ID: projects/servir-sco-assets/assets/ACI_Colab/pavd_z11\n",
            "✅ Started export for pavd_z12 → Asset ID: projects/servir-sco-assets/assets/ACI_Colab/pavd_z12\n",
            "✅ Started export for pavd_z13 → Asset ID: projects/servir-sco-assets/assets/ACI_Colab/pavd_z13\n",
            "✅ Started export for pavd_z14 → Asset ID: projects/servir-sco-assets/assets/ACI_Colab/pavd_z14\n",
            "✅ Started export for pavd_z15 → Asset ID: projects/servir-sco-assets/assets/ACI_Colab/pavd_z15\n",
            "✅ Started export for pavd_z16 → Asset ID: projects/servir-sco-assets/assets/ACI_Colab/pavd_z16\n",
            "✅ Started export for pavd_z17 → Asset ID: projects/servir-sco-assets/assets/ACI_Colab/pavd_z17\n",
            "✅ Started export for pavd_z18 → Asset ID: projects/servir-sco-assets/assets/ACI_Colab/pavd_z18\n",
            "✅ Started export for pavd_z19 → Asset ID: projects/servir-sco-assets/assets/ACI_Colab/pavd_z19\n",
            "✅ Started export for pavd_z20 → Asset ID: projects/servir-sco-assets/assets/ACI_Colab/pavd_z20\n",
            "✅ Started export for pavd_z21 → Asset ID: projects/servir-sco-assets/assets/ACI_Colab/pavd_z21\n",
            "✅ Started export for pavd_z22 → Asset ID: projects/servir-sco-assets/assets/ACI_Colab/pavd_z22\n",
            "✅ Started export for pavd_z23 → Asset ID: projects/servir-sco-assets/assets/ACI_Colab/pavd_z23\n",
            "✅ Started export for pavd_z24 → Asset ID: projects/servir-sco-assets/assets/ACI_Colab/pavd_z24\n",
            "✅ Started export for pavd_z25 → Asset ID: projects/servir-sco-assets/assets/ACI_Colab/pavd_z25\n",
            "✅ Started export for pavd_z26 → Asset ID: projects/servir-sco-assets/assets/ACI_Colab/pavd_z26\n",
            "✅ Started export for pavd_z27 → Asset ID: projects/servir-sco-assets/assets/ACI_Colab/pavd_z27\n",
            "✅ Started export for pavd_z28 → Asset ID: projects/servir-sco-assets/assets/ACI_Colab/pavd_z28\n"
          ]
        }
      ]
    },
    {
      "cell_type": "code",
      "source": [
        "# # Access a specific predicted band\n",
        "# pred_z5 = rf_predictions_pavd['pavd_z5']  # ee.Image\n",
        "\n",
        "# print(pred_z5.getInfo())"
      ],
      "metadata": {
        "id": "i5tDMBj4KJ1E",
        "outputId": "c636d5d9-d282-493a-b5e2-7c258162e5a5",
        "colab": {
          "base_uri": "https://localhost:8080/",
          "height": 54
        }
      },
      "execution_count": 19,
      "outputs": [
        {
          "output_type": "display_data",
          "data": {
            "text/plain": [
              "<IPython.core.display.HTML object>"
            ],
            "text/html": [
              "\n",
              "            <style>\n",
              "                .geemap-dark {\n",
              "                    --jp-widgets-color: white;\n",
              "                    --jp-widgets-label-color: white;\n",
              "                    --jp-ui-font-color1: white;\n",
              "                    --jp-layout-color2: #454545;\n",
              "                    background-color: #383838;\n",
              "                }\n",
              "\n",
              "                .geemap-dark .jupyter-button {\n",
              "                    --jp-layout-color3: #383838;\n",
              "                }\n",
              "\n",
              "                .geemap-colab {\n",
              "                    background-color: var(--colab-primary-surface-color, white);\n",
              "                }\n",
              "\n",
              "                .geemap-colab .jupyter-button {\n",
              "                    --jp-layout-color3: var(--colab-primary-surface-color, white);\n",
              "                }\n",
              "            </style>\n",
              "            "
            ]
          },
          "metadata": {}
        },
        {
          "output_type": "stream",
          "name": "stdout",
          "text": [
            "{'type': 'Image', 'bands': [{'id': 'pavd_z5_pred', 'data_type': {'type': 'PixelType', 'precision': 'float'}, 'dimensions': [3, 3], 'origin': [-87, 34], 'crs': 'EPSG:4326', 'crs_transform': [1, 0, 0, 0, 1, 0]}], 'properties': {'system:footprint': {'type': 'Polygon', 'coordinates': [[[-85.65568438327509, 35.72556771647989], [-85.81045412939606, 35.707561598626754], [-85.95270944453374, 35.654999793901034], [-86.07099426598994, 35.57212852555563], [-86.1558646071102, 35.465625735472834], [-86.20064834502853, 35.344043671708334], [-86.20194869799064, 35.21710476279884], [-86.15986100165567, 35.09491416795262], [-86.07790304990861, 34.98715567368491], [-85.96268390608564, 34.90233450435306], [-85.82335273729818, 34.84712282956825], [-85.6708783626476, 34.82585307945494], [-85.5172138519597, 34.840192062366924], [-85.37440113624679, 34.88901623606711], [-85.25367027761644, 34.96849574410549], [-85.16458799629929, 35.07238209969832], [-85.11431037629185, 35.192481660616934], [-85.10699437156237, 35.31928435518602], [-85.14341987291758, 35.44270484447321], [-85.22086622093246, 35.55288225280729], [-85.33327197620967, 35.64097611381866], [-85.47168361445529, 35.69989201389991], [-85.62496904770799, 35.72487233642613], [-85.65568438327509, 35.72556771647989]]]}}}\n"
          ]
        }
      ]
    },
    {
      "cell_type": "code",
      "source": [
        "# Map.addLayer(pred_z5, {'min': 0, 'max': 10, 'palette': ['white','yellow','green','darkgreen']}, 'pai_z5_pred')\n",
        "# # Map"
      ],
      "metadata": {
        "id": "wtHjO5oBKcI0",
        "outputId": "ffa710a3-cc2d-480d-b552-54330c1fe8b3",
        "colab": {
          "base_uri": "https://localhost:8080/",
          "height": 17
        }
      },
      "execution_count": 20,
      "outputs": [
        {
          "output_type": "display_data",
          "data": {
            "text/plain": [
              "<IPython.core.display.HTML object>"
            ],
            "text/html": [
              "\n",
              "            <style>\n",
              "                .geemap-dark {\n",
              "                    --jp-widgets-color: white;\n",
              "                    --jp-widgets-label-color: white;\n",
              "                    --jp-ui-font-color1: white;\n",
              "                    --jp-layout-color2: #454545;\n",
              "                    background-color: #383838;\n",
              "                }\n",
              "\n",
              "                .geemap-dark .jupyter-button {\n",
              "                    --jp-layout-color3: #383838;\n",
              "                }\n",
              "\n",
              "                .geemap-colab {\n",
              "                    background-color: var(--colab-primary-surface-color, white);\n",
              "                }\n",
              "\n",
              "                .geemap-colab .jupyter-button {\n",
              "                    --jp-layout-color3: var(--colab-primary-surface-color, white);\n",
              "                }\n",
              "            </style>\n",
              "            "
            ]
          },
          "metadata": {}
        }
      ]
    },
    {
      "cell_type": "code",
      "source": [
        "# predictors = ee.Image.cat([ndvi_image, dem, bio1, bio12, tcc, rh98_prediction, rf_pai_prediction])#.resample('bilinear').reproject(proj)\n",
        "# Map.addLayer(predictors, {}, \"predictors\")\n",
        "# # Map\n",
        "\n",
        "# # predictors = predictors.addBands(align(gedi_predictions))"
      ],
      "metadata": {
        "id": "xsIR3UMpUF9Q",
        "outputId": "6b1aceda-05a2-4a66-d448-7e018f48e598",
        "colab": {
          "base_uri": "https://localhost:8080/",
          "height": 17
        }
      },
      "execution_count": 21,
      "outputs": [
        {
          "output_type": "display_data",
          "data": {
            "text/plain": [
              "<IPython.core.display.HTML object>"
            ],
            "text/html": [
              "\n",
              "            <style>\n",
              "                .geemap-dark {\n",
              "                    --jp-widgets-color: white;\n",
              "                    --jp-widgets-label-color: white;\n",
              "                    --jp-ui-font-color1: white;\n",
              "                    --jp-layout-color2: #454545;\n",
              "                    background-color: #383838;\n",
              "                }\n",
              "\n",
              "                .geemap-dark .jupyter-button {\n",
              "                    --jp-layout-color3: #383838;\n",
              "                }\n",
              "\n",
              "                .geemap-colab {\n",
              "                    background-color: var(--colab-primary-surface-color, white);\n",
              "                }\n",
              "\n",
              "                .geemap-colab .jupyter-button {\n",
              "                    --jp-layout-color3: var(--colab-primary-surface-color, white);\n",
              "                }\n",
              "            </style>\n",
              "            "
            ]
          },
          "metadata": {}
        }
      ]
    },
    {
      "cell_type": "code",
      "source": [
        "# -----------------------------\n",
        "# load the GEE asset\n",
        "# -----------------------------\n",
        "pavd_z0= ee.Image(\"projects/servir-sco-assets/assets/ACI_Colab/pavd_z0\")\n",
        "pavd_z1= ee.Image(\"projects/servir-sco-assets/assets/ACI_Colab/pavd_z1\")\n",
        "pavd_z2= ee.Image(\"projects/servir-sco-assets/assets/ACI_Colab/pavd_z2\")\n",
        "pavd_z3= ee.Image(\"projects/servir-sco-assets/assets/ACI_Colab/pavd_z3\")\n",
        "pavd_z4= ee.Image(\"projects/servir-sco-assets/assets/ACI_Colab/pavd_z4\")\n",
        "pavd_z5= ee.Image(\"projects/servir-sco-assets/assets/ACI_Colab/pavd_z5\")\n",
        "pavd_z6= ee.Image(\"projects/servir-sco-assets/assets/ACI_Colab/pavd_z6\")\n",
        "pavd_z7= ee.Image(\"projects/servir-sco-assets/assets/ACI_Colab/pavd_z7\")\n",
        "pavd_z8= ee.Image(\"projects/servir-sco-assets/assets/ACI_Colab/pavd_z8\")\n",
        "pavd_z9= ee.Image(\"projects/servir-sco-assets/assets/ACI_Colab/pavd_z9\")\n",
        "pavd_z10= ee.Image(\"projects/servir-sco-assets/assets/ACI_Colab/pavd_z10\")\n",
        "pavd_z11= ee.Image(\"projects/servir-sco-assets/assets/ACI_Colab/pavd_z11\")\n",
        "pavd_z12= ee.Image(\"projects/servir-sco-assets/assets/ACI_Colab/pavd_z12\")\n",
        "pavd_z13= ee.Image(\"projects/servir-sco-assets/assets/ACI_Colab/pavd_z13\")\n",
        "pavd_z14= ee.Image(\"projects/servir-sco-assets/assets/ACI_Colab/pavd_z14\")\n",
        "pavd_z15= ee.Image(\"projects/servir-sco-assets/assets/ACI_Colab/pavd_z15\")\n",
        "pavd_z16= ee.Image(\"projects/servir-sco-assets/assets/ACI_Colab/pavd_z16\")\n",
        "pavd_z17= ee.Image(\"projects/servir-sco-assets/assets/ACI_Colab/pavd_z17\")\n",
        "pavd_z18= ee.Image(\"projects/servir-sco-assets/assets/ACI_Colab/pavd_z18\")\n",
        "pavd_z19= ee.Image(\"projects/servir-sco-assets/assets/ACI_Colab/pavd_z19\")\n",
        "pavd_z20= ee.Image(\"projects/servir-sco-assets/assets/ACI_Colab/pavd_z20\")\n",
        "pavd_z21= ee.Image(\"projects/servir-sco-assets/assets/ACI_Colab/pavd_z21\")\n",
        "pavd_z22= ee.Image(\"projects/servir-sco-assets/assets/ACI_Colab/pavd_z22\")\n",
        "pavd_z23= ee.Image(\"projects/servir-sco-assets/assets/ACI_Colab/pavd_z23\")\n",
        "pavd_z24= ee.Image(\"projects/servir-sco-assets/assets/ACI_Colab/pavd_z24\")\n",
        "pavd_z25= ee.Image(\"projects/servir-sco-assets/assets/ACI_Colab/pavd_z25\")\n",
        "pavd_z26= ee.Image(\"projects/servir-sco-assets/assets/ACI_Colab/pavd_z26\")\n",
        "pavd_z27= ee.Image(\"projects/servir-sco-assets/assets/ACI_Colab/pavd_z27\")\n",
        "pavd_z28= ee.Image(\"projects/servir-sco-assets/assets/ACI_Colab/pavd_z28\")\n",
        "rf_pai_prediction= ee.Image(\"projects/servir-sco-assets/assets/ACI_Colab/rf_pai_prediction\")\n",
        "rh98_prediction= ee.Image(\"projects/servir-sco-assets/assets/ACI_Colab/rh98_prediction\")\n"
      ],
      "metadata": {
        "id": "Pl70y5JzQcGS"
      },
      "execution_count": null,
      "outputs": []
    },
    {
      "cell_type": "code",
      "source": [
        "# Only use a subset for testing (you can add more later)\n",
        "predictors = ee.Image.cat([ndvi_image, dem, bio1, bio12, tcc, pavd_z0, pavd_z1, pavd_z2,\n",
        "                           pavd_z3, pavd_z4, pavd_z5, pavd_z6, pavd_z7, pavd_z8, pavd_z9,\n",
        "                           pavd_z10, pavd_z11, pavd_z12, pavd_z13, pavd_z14, pavd_z15, pavd_z16,\n",
        "                           pavd_z17, pavd_z18, pavd_z19, pavd_z20, pavd_z21, pavd_z22, pavd_z23,\n",
        "                           pavd_z24, pavd_z25, pavd_z26, pavd_z27, pavd_z28, rf_pai_prediction, rh98_prediction])\n"
      ],
      "metadata": {
        "id": "BH1jQXSww6sp"
      },
      "execution_count": null,
      "outputs": []
    },
    {
      "cell_type": "code",
      "source": [
        "# # -----------------------------\n",
        "# # Build lightweight predictors\n",
        "# # -----------------------------\n",
        "# def align(img):\n",
        "#     return img.resample('bilinear')  # <-- no reproject\n",
        "\n",
        "# # Only use a subset for testing (you can add more later)\n",
        "# predictors = ee.Image.cat([\n",
        "#     ndvi_image, dem, bio1, bio12, tcc, rh98_prediction, rf_pai_prediction\n",
        "# ]).resample('bilinear')\n",
        "\n",
        "# # Example: add 1–2 PAVD predictions\n",
        "# predictors = predictors.addBands(rf_predictions_pavd['pavd_z0'])\n",
        "# predictors = predictors.addBands(rf_predictions_pavd['pavd_z1'])\n",
        "# predictors = predictors.addBands(rf_predictions_pavd['pavd_z2'])\n",
        "# predictors = predictors.addBands(rf_predictions_pavd['pavd_z3'])\n",
        "# predictors = predictors.addBands(rf_predictions_pavd['pavd_z4'])\n",
        "# predictors = predictors.addBands(rf_predictions_pavd['pavd_z5'])\n",
        "# predictors = predictors.addBands(rf_predictions_pavd['pavd_z6'])\n",
        "# predictors = predictors.addBands(rf_predictions_pavd['pavd_z7'])\n",
        "# predictors = predictors.addBands(rf_predictions_pavd['pavd_z8'])\n",
        "# predictors = predictors.addBands(rf_predictions_pavd['pavd_z9'])\n",
        "# predictors = predictors.addBands(rf_predictions_pavd['pavd_z10'])\n",
        "# predictors = predictors.addBands(rf_predictions_pavd['pavd_z11'])\n",
        "# predictors = predictors.addBands(rf_predictions_pavd['pavd_z12'])\n",
        "# predictors = predictors.addBands(rf_predictions_pavd['pavd_z13'])\n",
        "# predictors = predictors.addBands(rf_predictions_pavd['pavd_z14'])\n",
        "# predictors = predictors.addBands(rf_predictions_pavd['pavd_z15'])\n",
        "# predictors = predictors.addBands(rf_predictions_pavd['pavd_z16'])\n",
        "# predictors = predictors.addBands(rf_predictions_pavd['pavd_z17'])\n",
        "# predictors = predictors.addBands(rf_predictions_pavd['pavd_z18'])\n",
        "# predictors = predictors.addBands(rf_predictions_pavd['pavd_z19'])\n",
        "# predictors = predictors.addBands(rf_predictions_pavd['pavd_z20'])\n",
        "# predictors = predictors.addBands(rf_predictions_pavd['pavd_z21'])\n",
        "# predictors = predictors.addBands(rf_predictions_pavd['pavd_z22'])\n",
        "# predictors = predictors.addBands(rf_predictions_pavd['pavd_z23'])\n",
        "# predictors = predictors.addBands(rf_predictions_pavd['pavd_z24'])\n",
        "# predictors = predictors.addBands(rf_predictions_pavd['pavd_z25'])\n",
        "# predictors = predictors.addBands(rf_predictions_pavd['pavd_z26'])\n",
        "# predictors = predictors.addBands(rf_predictions_pavd['pavd_z27'])\n",
        "# predictors = predictors.addBands(rf_predictions_pavd['pavd_z28'])\n",
        "# # predictors = predictors.addBands(rf_predictions_pavd['pavd_z29'])\n",
        "\n",
        "\n"
      ],
      "metadata": {
        "colab": {
          "base_uri": "https://localhost:8080/",
          "height": 34
        },
        "id": "v5hc8Fub4xRv",
        "outputId": "8420c8fa-7bd5-4b21-ecf5-ae4279d158bd"
      },
      "execution_count": 32,
      "outputs": [
        {
          "output_type": "display_data",
          "data": {
            "text/plain": [
              "<IPython.core.display.HTML object>"
            ],
            "text/html": [
              "\n",
              "            <style>\n",
              "                .geemap-dark {\n",
              "                    --jp-widgets-color: white;\n",
              "                    --jp-widgets-label-color: white;\n",
              "                    --jp-ui-font-color1: white;\n",
              "                    --jp-layout-color2: #454545;\n",
              "                    background-color: #383838;\n",
              "                }\n",
              "\n",
              "                .geemap-dark .jupyter-button {\n",
              "                    --jp-layout-color3: #383838;\n",
              "                }\n",
              "\n",
              "                .geemap-colab {\n",
              "                    background-color: var(--colab-primary-surface-color, white);\n",
              "                }\n",
              "\n",
              "                .geemap-colab .jupyter-button {\n",
              "                    --jp-layout-color3: var(--colab-primary-surface-color, white);\n",
              "                }\n",
              "            </style>\n",
              "            "
            ]
          },
          "metadata": {}
        },
        {
          "output_type": "stream",
          "name": "stdout",
          "text": [
            "✅ Export started → Check Earth Engine Tasks tab or Drive for results.\n"
          ]
        }
      ]
    },
    {
      "cell_type": "code",
      "source": [
        "# ============================================================\n",
        "# 2. Train MaxEnt model\n",
        "# ============================================================\n",
        "# Clip predictors to ROI before sampling\n",
        "training = predictors.clip(roi).sampleRegions(\n",
        "    collection=training_data,\n",
        "    scale=30\n",
        ")\n",
        "\n",
        "classifier = ee.Classifier.amnhMaxent() \\\n",
        "    .train(training, 'occurrence', predictors.bandNames())\n",
        "\n",
        "# Classify probability surface (no tileScale here)\n",
        "classified = predictors.classify(classifier)\n",
        "\n",
        "# Clip for visualization/export\n",
        "probability = classified.select('probability').clip(roi)\n"
      ],
      "metadata": {
        "colab": {
          "base_uri": "https://localhost:8080/",
          "height": 17
        },
        "id": "j7SMVup8Likj",
        "outputId": "251c9088-49f7-44fb-b6a0-da2f3b6019bd"
      },
      "execution_count": 36,
      "outputs": [
        {
          "output_type": "display_data",
          "data": {
            "text/plain": [
              "<IPython.core.display.HTML object>"
            ],
            "text/html": [
              "\n",
              "            <style>\n",
              "                .geemap-dark {\n",
              "                    --jp-widgets-color: white;\n",
              "                    --jp-widgets-label-color: white;\n",
              "                    --jp-ui-font-color1: white;\n",
              "                    --jp-layout-color2: #454545;\n",
              "                    background-color: #383838;\n",
              "                }\n",
              "\n",
              "                .geemap-dark .jupyter-button {\n",
              "                    --jp-layout-color3: #383838;\n",
              "                }\n",
              "\n",
              "                .geemap-colab {\n",
              "                    background-color: var(--colab-primary-surface-color, white);\n",
              "                }\n",
              "\n",
              "                .geemap-colab .jupyter-button {\n",
              "                    --jp-layout-color3: var(--colab-primary-surface-color, white);\n",
              "                }\n",
              "            </style>\n",
              "            "
            ]
          },
          "metadata": {}
        }
      ]
    },
    {
      "cell_type": "code",
      "source": [
        "# ==============================\n",
        "# Export image in small tiles\n",
        "# ==============================\n",
        "def export_grid(image, roi, grid_size=10, prefix=\"cerulean_warbler_maxent\"):\n",
        "    # Get bounding box\n",
        "    coords = roi.bounds().coordinates().getInfo()[0]\n",
        "    xmin, ymin = coords[0]\n",
        "    xmax, ymax = coords[2]\n",
        "\n",
        "    # Compute step sizes\n",
        "    x_step = (xmax - xmin) / grid_size\n",
        "    y_step = (ymax - ymin) / grid_size\n",
        "\n",
        "    tile_id = 0\n",
        "    for i in range(grid_size):\n",
        "        for j in range(grid_size):\n",
        "            x0 = xmin + i * x_step\n",
        "            x1 = xmin + (i + 1) * x_step\n",
        "            y0 = ymin + j * y_step\n",
        "            y1 = ymin + (j + 1) * y_step\n",
        "\n",
        "            geom = ee.Geometry.Rectangle([x0, y0, x1, y1])\n",
        "            tile_name = f\"{prefix}_tile_{tile_id}\"\n",
        "\n",
        "            task = ee.batch.Export.image.toDrive(\n",
        "                image=image,\n",
        "                description=tile_name,\n",
        "                folder=\"EarthEngine\",\n",
        "                fileNamePrefix=tile_name,\n",
        "                region=geom,\n",
        "                scale=30,\n",
        "                maxPixels=1e13,\n",
        "                fileDimensions=512,  # smaller tile size\n",
        "                shardSize=128\n",
        "            )\n",
        "            task.start()\n",
        "            print(f\"🚀 Started export: {tile_name}\")\n",
        "            tile_id += 1\n",
        "\n",
        "\n",
        "# ==============================\n",
        "# Run export in 10x10 grid (100 tiles)\n",
        "# ==============================\n",
        "export_grid(probability, roi, grid_size=10, prefix=\"cerulean_warbler_maxent\")\n"
      ],
      "metadata": {
        "colab": {
          "base_uri": "https://localhost:8080/",
          "height": 1000
        },
        "id": "nd63oMNYDQBC",
        "outputId": "e0f44881-66de-4a32-8665-8189c2cd51ab"
      },
      "execution_count": 39,
      "outputs": [
        {
          "output_type": "display_data",
          "data": {
            "text/plain": [
              "<IPython.core.display.HTML object>"
            ],
            "text/html": [
              "\n",
              "            <style>\n",
              "                .geemap-dark {\n",
              "                    --jp-widgets-color: white;\n",
              "                    --jp-widgets-label-color: white;\n",
              "                    --jp-ui-font-color1: white;\n",
              "                    --jp-layout-color2: #454545;\n",
              "                    background-color: #383838;\n",
              "                }\n",
              "\n",
              "                .geemap-dark .jupyter-button {\n",
              "                    --jp-layout-color3: #383838;\n",
              "                }\n",
              "\n",
              "                .geemap-colab {\n",
              "                    background-color: var(--colab-primary-surface-color, white);\n",
              "                }\n",
              "\n",
              "                .geemap-colab .jupyter-button {\n",
              "                    --jp-layout-color3: var(--colab-primary-surface-color, white);\n",
              "                }\n",
              "            </style>\n",
              "            "
            ]
          },
          "metadata": {}
        },
        {
          "output_type": "stream",
          "name": "stdout",
          "text": [
            "🚀 Started export: cerulean_warbler_maxent_tile_0\n",
            "🚀 Started export: cerulean_warbler_maxent_tile_1\n",
            "🚀 Started export: cerulean_warbler_maxent_tile_2\n",
            "🚀 Started export: cerulean_warbler_maxent_tile_3\n",
            "🚀 Started export: cerulean_warbler_maxent_tile_4\n",
            "🚀 Started export: cerulean_warbler_maxent_tile_5\n",
            "🚀 Started export: cerulean_warbler_maxent_tile_6\n",
            "🚀 Started export: cerulean_warbler_maxent_tile_7\n",
            "🚀 Started export: cerulean_warbler_maxent_tile_8\n",
            "🚀 Started export: cerulean_warbler_maxent_tile_9\n",
            "🚀 Started export: cerulean_warbler_maxent_tile_10\n",
            "🚀 Started export: cerulean_warbler_maxent_tile_11\n",
            "🚀 Started export: cerulean_warbler_maxent_tile_12\n",
            "🚀 Started export: cerulean_warbler_maxent_tile_13\n",
            "🚀 Started export: cerulean_warbler_maxent_tile_14\n",
            "🚀 Started export: cerulean_warbler_maxent_tile_15\n",
            "🚀 Started export: cerulean_warbler_maxent_tile_16\n",
            "🚀 Started export: cerulean_warbler_maxent_tile_17\n",
            "🚀 Started export: cerulean_warbler_maxent_tile_18\n",
            "🚀 Started export: cerulean_warbler_maxent_tile_19\n",
            "🚀 Started export: cerulean_warbler_maxent_tile_20\n",
            "🚀 Started export: cerulean_warbler_maxent_tile_21\n",
            "🚀 Started export: cerulean_warbler_maxent_tile_22\n",
            "🚀 Started export: cerulean_warbler_maxent_tile_23\n",
            "🚀 Started export: cerulean_warbler_maxent_tile_24\n",
            "🚀 Started export: cerulean_warbler_maxent_tile_25\n",
            "🚀 Started export: cerulean_warbler_maxent_tile_26\n",
            "🚀 Started export: cerulean_warbler_maxent_tile_27\n",
            "🚀 Started export: cerulean_warbler_maxent_tile_28\n",
            "🚀 Started export: cerulean_warbler_maxent_tile_29\n",
            "🚀 Started export: cerulean_warbler_maxent_tile_30\n",
            "🚀 Started export: cerulean_warbler_maxent_tile_31\n",
            "🚀 Started export: cerulean_warbler_maxent_tile_32\n",
            "🚀 Started export: cerulean_warbler_maxent_tile_33\n",
            "🚀 Started export: cerulean_warbler_maxent_tile_34\n",
            "🚀 Started export: cerulean_warbler_maxent_tile_35\n",
            "🚀 Started export: cerulean_warbler_maxent_tile_36\n",
            "🚀 Started export: cerulean_warbler_maxent_tile_37\n",
            "🚀 Started export: cerulean_warbler_maxent_tile_38\n",
            "🚀 Started export: cerulean_warbler_maxent_tile_39\n",
            "🚀 Started export: cerulean_warbler_maxent_tile_40\n",
            "🚀 Started export: cerulean_warbler_maxent_tile_41\n",
            "🚀 Started export: cerulean_warbler_maxent_tile_42\n",
            "🚀 Started export: cerulean_warbler_maxent_tile_43\n",
            "🚀 Started export: cerulean_warbler_maxent_tile_44\n",
            "🚀 Started export: cerulean_warbler_maxent_tile_45\n",
            "🚀 Started export: cerulean_warbler_maxent_tile_46\n",
            "🚀 Started export: cerulean_warbler_maxent_tile_47\n",
            "🚀 Started export: cerulean_warbler_maxent_tile_48\n",
            "🚀 Started export: cerulean_warbler_maxent_tile_49\n",
            "🚀 Started export: cerulean_warbler_maxent_tile_50\n",
            "🚀 Started export: cerulean_warbler_maxent_tile_51\n",
            "🚀 Started export: cerulean_warbler_maxent_tile_52\n",
            "🚀 Started export: cerulean_warbler_maxent_tile_53\n",
            "🚀 Started export: cerulean_warbler_maxent_tile_54\n",
            "🚀 Started export: cerulean_warbler_maxent_tile_55\n",
            "🚀 Started export: cerulean_warbler_maxent_tile_56\n",
            "🚀 Started export: cerulean_warbler_maxent_tile_57\n",
            "🚀 Started export: cerulean_warbler_maxent_tile_58\n",
            "🚀 Started export: cerulean_warbler_maxent_tile_59\n",
            "🚀 Started export: cerulean_warbler_maxent_tile_60\n",
            "🚀 Started export: cerulean_warbler_maxent_tile_61\n",
            "🚀 Started export: cerulean_warbler_maxent_tile_62\n",
            "🚀 Started export: cerulean_warbler_maxent_tile_63\n",
            "🚀 Started export: cerulean_warbler_maxent_tile_64\n",
            "🚀 Started export: cerulean_warbler_maxent_tile_65\n",
            "🚀 Started export: cerulean_warbler_maxent_tile_66\n",
            "🚀 Started export: cerulean_warbler_maxent_tile_67\n",
            "🚀 Started export: cerulean_warbler_maxent_tile_68\n",
            "🚀 Started export: cerulean_warbler_maxent_tile_69\n",
            "🚀 Started export: cerulean_warbler_maxent_tile_70\n",
            "🚀 Started export: cerulean_warbler_maxent_tile_71\n",
            "🚀 Started export: cerulean_warbler_maxent_tile_72\n",
            "🚀 Started export: cerulean_warbler_maxent_tile_73\n",
            "🚀 Started export: cerulean_warbler_maxent_tile_74\n",
            "🚀 Started export: cerulean_warbler_maxent_tile_75\n",
            "🚀 Started export: cerulean_warbler_maxent_tile_76\n",
            "🚀 Started export: cerulean_warbler_maxent_tile_77\n",
            "🚀 Started export: cerulean_warbler_maxent_tile_78\n",
            "🚀 Started export: cerulean_warbler_maxent_tile_79\n",
            "🚀 Started export: cerulean_warbler_maxent_tile_80\n",
            "🚀 Started export: cerulean_warbler_maxent_tile_81\n",
            "🚀 Started export: cerulean_warbler_maxent_tile_82\n",
            "🚀 Started export: cerulean_warbler_maxent_tile_83\n",
            "🚀 Started export: cerulean_warbler_maxent_tile_84\n",
            "🚀 Started export: cerulean_warbler_maxent_tile_85\n",
            "🚀 Started export: cerulean_warbler_maxent_tile_86\n",
            "🚀 Started export: cerulean_warbler_maxent_tile_87\n",
            "🚀 Started export: cerulean_warbler_maxent_tile_88\n",
            "🚀 Started export: cerulean_warbler_maxent_tile_89\n",
            "🚀 Started export: cerulean_warbler_maxent_tile_90\n",
            "🚀 Started export: cerulean_warbler_maxent_tile_91\n",
            "🚀 Started export: cerulean_warbler_maxent_tile_92\n",
            "🚀 Started export: cerulean_warbler_maxent_tile_93\n",
            "🚀 Started export: cerulean_warbler_maxent_tile_94\n",
            "🚀 Started export: cerulean_warbler_maxent_tile_95\n",
            "🚀 Started export: cerulean_warbler_maxent_tile_96\n",
            "🚀 Started export: cerulean_warbler_maxent_tile_97\n",
            "🚀 Started export: cerulean_warbler_maxent_tile_98\n",
            "🚀 Started export: cerulean_warbler_maxent_tile_99\n"
          ]
        }
      ]
    }
  ]
}