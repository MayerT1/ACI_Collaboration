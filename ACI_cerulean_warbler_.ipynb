{
  "nbformat": 4,
  "nbformat_minor": 0,
  "metadata": {
    "colab": {
      "provenance": [],
      "authorship_tag": "ABX9TyMtwsFAOOIBjKxblpVEjLXP",
      "include_colab_link": true
    },
    "kernelspec": {
      "name": "python3",
      "display_name": "Python 3"
    },
    "language_info": {
      "name": "python"
    }
  },
  "cells": [
    {
      "cell_type": "markdown",
      "metadata": {
        "id": "view-in-github",
        "colab_type": "text"
      },
      "source": [
        "<a href=\"https://colab.research.google.com/github/MayerT1/ACI_Collaboration/blob/main/ACI_cerulean_warbler_.ipynb\" target=\"_parent\"><img src=\"https://colab.research.google.com/assets/colab-badge.svg\" alt=\"Open In Colab\"/></a>"
      ]
    },
    {
      "cell_type": "code",
      "source": [
        "!pip install pygbif"
      ],
      "metadata": {
        "id": "vHXXyXFVD6jY"
      },
      "execution_count": null,
      "outputs": []
    },
    {
      "cell_type": "code",
      "source": [
        "import ee\n",
        "import geemap\n",
        "import pandas as pd\n",
        "from pygbif import occurrences\n",
        "import geemap.chart as chart"
      ],
      "metadata": {
        "id": "TYL_atbkDyTh"
      },
      "execution_count": null,
      "outputs": []
    },
    {
      "cell_type": "code",
      "source": [
        "# Authenticate and initialize Earth Engine\n",
        "ee.Authenticate()\n",
        "ee.Initialize(project='servir-sco-assets')\n",
        "Map = geemap.Map()"
      ],
      "metadata": {
        "id": "4jg21dneD0Ak"
      },
      "execution_count": null,
      "outputs": []
    },
    {
      "cell_type": "markdown",
      "source": [
        "https://www.gbif.org/species/6093350"
      ],
      "metadata": {
        "id": "E1zT2F-wEdQ2"
      }
    },
    {
      "cell_type": "code",
      "execution_count": null,
      "metadata": {
        "id": "080clP4mDrVw"
      },
      "outputs": [],
      "source": [
        "# Define AOI: Tennessee\n",
        "states = ee.FeatureCollection(\"TIGER/2018/States\")\n",
        "tennessee = states.filter(ee.Filter.eq('NAME', 'Tennessee'))\n",
        "roi = tennessee.geometry()\n",
        "Map = geemap.Map(center=[35, -86], zoom=6)\n",
        "Map.addLayer(tennessee, {}, \"Tennessee AOI\")\n",
        "\n",
        "# --------------------------------------------------\n",
        "# Fetch Cerulean Warbler occurrences from GBIF\n",
        "# --------------------------------------------------\n",
        "species_name = \"Setophaga cerulea\"\n",
        "gbif_data = occurrences.search(scientificName=species_name, country=\"US\", stateProvince=\"Tennessee\", hasCoordinate=True, limit=3000)\n",
        "\n",
        "# Convert GBIF occurrences to a DataFrame\n",
        "records = gbif_data['results']\n",
        "df = pd.DataFrame(records)\n",
        "df = df.dropna(subset=['decimalLatitude', 'decimalLongitude'])\n",
        "\n",
        "# Convert to ee.FeatureCollection\n",
        "def df_to_fc(row):\n",
        "    return ee.Feature(ee.Geometry.Point([row['decimalLongitude'], row['decimalLatitude']]), {'occurrence': 1})\n",
        "\n",
        "presence_fc = ee.FeatureCollection(df.apply(df_to_fc, axis=1).tolist())\n",
        "Map.addLayer(presence_fc, {'color': 'blue'}, \"Presence Points\")\n",
        "\n",
        "# --------------------------------------------------\n",
        "# Generate background (pseudo-absence) points\n",
        "# --------------------------------------------------\n",
        "background_fc = ee.FeatureCollection.randomPoints(roi, 10000, seed=42)\n",
        "background_fc = background_fc.map(lambda f: f.set('occurrence', 0))\n",
        "Map.addLayer(background_fc, {'color': 'red'}, \"Background Points\")\n",
        "\n",
        "# Merge presence and background points\n",
        "training_data = presence_fc.merge(background_fc)\n",
        "Map.addLayer(training_data, {}, \"Training Data\")\n",
        "\n",
        "# --------------------------------------------------\n",
        "# Landsat 8 imagery preprocessing\n",
        "# --------------------------------------------------\n",
        "def maskL8sr(image):\n",
        "    qa = image.select('QA_PIXEL')\n",
        "    cloudShadowBitMask = 1 << 3\n",
        "    cloudsBitMask = 1 << 5\n",
        "    mask = qa.bitwiseAnd(cloudShadowBitMask).eq(0).And(\n",
        "        qa.bitwiseAnd(cloudsBitMask).eq(0)\n",
        "    )\n",
        "    return image.updateMask(mask)\n",
        "\n",
        "LS8 = ee.ImageCollection(\"LANDSAT/LC08/C02/T1_L2\") \\\n",
        "        .filterDate('2020-01-01', '2020-12-31') \\\n",
        "        .filterBounds(roi) \\\n",
        "        .map(maskL8sr)\n",
        "\n",
        "# Compute NDVI median image\n",
        "def add_ndvi(image):\n",
        "    ndvi = image.normalizedDifference(['SR_B5', 'SR_B4']).rename('NDVI')\n",
        "    return ndvi.copyProperties(image).set('system:time_start', image.get('system:time_start'))\n",
        "\n",
        "image = LS8.map(add_ndvi).median().clip(roi)\n",
        "Map.addLayer(image, {'min': 0, 'max': 1, 'palette': ['white', 'green']}, \"NDVI\")\n",
        "\n",
        "# --------------------------------------------------\n",
        "# Sample points and train Maxent classifier\n",
        "# --------------------------------------------------\n",
        "training = image.sampleRegions(\n",
        "    collection=training_data,\n",
        "    scale=30\n",
        ")\n",
        "\n",
        "classifier = ee.Classifier.amnhMaxent().train(\n",
        "    features=training,\n",
        "    classProperty='occurrence',\n",
        "    inputProperties=image.bandNames()\n",
        ")\n",
        "\n",
        "# Classify image\n",
        "image_classified = image.classify(classifier)\n",
        "Map.addLayer(image_classified.select('probability'), {'min':0, 'max':1, 'palette': ['blue','white','red']}, 'Predicted Probability')\n",
        "\n",
        "# Display map\n",
        "Map\n"
      ]
    }
  ]
}